{
 "cells": [
  {
   "cell_type": "code",
   "execution_count": 1,
   "metadata": {},
   "outputs": [],
   "source": [
    "import pandas as pd\n",
    "import numpy as np\n",
    "from tqdm import tqdm\n",
    "from MSI.load_msi_data import LoadData\n",
    "import sqlite3\n",
    "import ast"
   ]
  },
  {
   "attachments": {},
   "cell_type": "markdown",
   "metadata": {},
   "source": [
    "TWOSIDES processing code 추가해야 함."
   ]
  },
  {
   "attachments": {},
   "cell_type": "markdown",
   "metadata": {},
   "source": [
    "## Process database (DCDB, C_DCDB, TWOSIDES)"
   ]
  },
  {
   "attachments": {},
   "cell_type": "markdown",
   "metadata": {},
   "source": [
    "### DCDB: Drug Combination Database"
   ]
  },
  {
   "cell_type": "code",
   "execution_count": 2,
   "metadata": {},
   "outputs": [],
   "source": [
    "dcdb = pd.read_csv('database/dcdb/dcdb.txt', sep='\\t')\n",
    "dcdb_id = pd.read_csv('database/dcdb/dcdb_components_identifier.txt', sep='\\t')\n",
    "dc2dcu = pd.read_csv('database/dcdb/DC_TO_DCU.txt', sep='\\t')\n",
    "dcu_usage = pd.read_csv('database/dcdb/DC_USAGE.txt', sep='\\t')"
   ]
  },
  {
   "cell_type": "code",
   "execution_count": 3,
   "metadata": {},
   "outputs": [
    {
     "name": "stdout",
     "output_type": "stream",
     "text": [
      "1363\n"
     ]
    },
    {
     "data": {
      "text/html": [
       "<div>\n",
       "<style scoped>\n",
       "    .dataframe tbody tr th:only-of-type {\n",
       "        vertical-align: middle;\n",
       "    }\n",
       "\n",
       "    .dataframe tbody tr th {\n",
       "        vertical-align: top;\n",
       "    }\n",
       "\n",
       "    .dataframe thead th {\n",
       "        text-align: right;\n",
       "    }\n",
       "</style>\n",
       "<table border=\"1\" class=\"dataframe\">\n",
       "  <thead>\n",
       "    <tr style=\"text-align: right;\">\n",
       "      <th></th>\n",
       "      <th>DrugCombination_ID</th>\n",
       "      <th>Components_Name</th>\n",
       "      <th>Componets_ID</th>\n",
       "    </tr>\n",
       "  </thead>\n",
       "  <tbody>\n",
       "    <tr>\n",
       "      <th>0</th>\n",
       "      <td>DC000348</td>\n",
       "      <td>Bismuth Subsalicylate; Metronidazole; Tetracyc...</td>\n",
       "      <td>DCC0187/DCC0235/DCC0338</td>\n",
       "    </tr>\n",
       "    <tr>\n",
       "      <th>1</th>\n",
       "      <td>DC000349</td>\n",
       "      <td>Brimonidine; Timolol</td>\n",
       "      <td>DCC0072/DCC0106</td>\n",
       "    </tr>\n",
       "    <tr>\n",
       "      <th>2</th>\n",
       "      <td>DC000350</td>\n",
       "      <td>Betamethasone; Calcipotriol</td>\n",
       "      <td>DCC0095/DCC0358</td>\n",
       "    </tr>\n",
       "    <tr>\n",
       "      <th>3</th>\n",
       "      <td>DC000351</td>\n",
       "      <td>Betamethasone; Clotrimazole</td>\n",
       "      <td>DCC0033/DCC0095</td>\n",
       "    </tr>\n",
       "    <tr>\n",
       "      <th>4</th>\n",
       "      <td>DC000352</td>\n",
       "      <td>Cerulenin; Levodopa</td>\n",
       "      <td>DCC0274/DCC0326</td>\n",
       "    </tr>\n",
       "  </tbody>\n",
       "</table>\n",
       "</div>"
      ],
      "text/plain": [
       "  DrugCombination_ID                                    Components_Name  \\\n",
       "0           DC000348  Bismuth Subsalicylate; Metronidazole; Tetracyc...   \n",
       "1           DC000349                               Brimonidine; Timolol   \n",
       "2           DC000350                        Betamethasone; Calcipotriol   \n",
       "3           DC000351                        Betamethasone; Clotrimazole   \n",
       "4           DC000352                                Cerulenin; Levodopa   \n",
       "\n",
       "              Componets_ID  \n",
       "0  DCC0187/DCC0235/DCC0338  \n",
       "1          DCC0072/DCC0106  \n",
       "2          DCC0095/DCC0358  \n",
       "3          DCC0033/DCC0095  \n",
       "4          DCC0274/DCC0326  "
      ]
     },
     "execution_count": 3,
     "metadata": {},
     "output_type": "execute_result"
    }
   ],
   "source": [
    "print(len(dcdb))\n",
    "dcdb.head()"
   ]
  },
  {
   "cell_type": "code",
   "execution_count": 4,
   "metadata": {},
   "outputs": [
    {
     "name": "stderr",
     "output_type": "stream",
     "text": [
      "100%|██████████| 1793/1793 [00:00<00:00, 65327.64it/s]\n",
      "100%|██████████| 1813/1813 [00:00<00:00, 96621.09it/s]\n"
     ]
    }
   ],
   "source": [
    "# leave only \"EFFICACIOUS\" combinations\n",
    "dc2dcu_dict = {}\n",
    "for i in tqdm(range(len(dc2dcu))):\n",
    "    dc = dc2dcu['DC_ID'][i]\n",
    "    dcu = dc2dcu['DCU_ID'][i]\n",
    "    if dc not in dc2dcu_dict:\n",
    "        dc2dcu_dict[dc] = set([dcu])\n",
    "    else:\n",
    "        dc2dcu_dict[dc].add(dcu)\n",
    "\n",
    "efficacious_dcu = set()\n",
    "for i in tqdm(range(len(dcu_usage))):\n",
    "    dcu = dcu_usage['DCU_ID'][i]\n",
    "    if dcu_usage['EFFICACY'][i] == 'Efficacious':\n",
    "        efficacious_dcu.add(dcu)\n",
    "\n",
    "efficacious_dc = set()\n",
    "for key in dc2dcu_dict.keys():\n",
    "    if dc2dcu_dict[key].issubset(efficacious_dcu):\n",
    "        efficacious_dc.add(key)"
   ]
  },
  {
   "cell_type": "code",
   "execution_count": 5,
   "metadata": {},
   "outputs": [
    {
     "name": "stdout",
     "output_type": "stream",
     "text": [
      "1037\n"
     ]
    }
   ],
   "source": [
    "dcdb = dcdb.loc[dcdb['DrugCombination_ID'].isin(efficacious_dc)]\n",
    "print(len(dcdb))"
   ]
  },
  {
   "cell_type": "code",
   "execution_count": 6,
   "metadata": {},
   "outputs": [
    {
     "data": {
      "text/html": [
       "<div>\n",
       "<style scoped>\n",
       "    .dataframe tbody tr th:only-of-type {\n",
       "        vertical-align: middle;\n",
       "    }\n",
       "\n",
       "    .dataframe tbody tr th {\n",
       "        vertical-align: top;\n",
       "    }\n",
       "\n",
       "    .dataframe thead th {\n",
       "        text-align: right;\n",
       "    }\n",
       "</style>\n",
       "<table border=\"1\" class=\"dataframe\">\n",
       "  <thead>\n",
       "    <tr style=\"text-align: right;\">\n",
       "      <th></th>\n",
       "      <th>DCC_ID</th>\n",
       "      <th>Name</th>\n",
       "      <th>CAS_Number</th>\n",
       "      <th>BindingDB</th>\n",
       "      <th>ChEBI</th>\n",
       "      <th>DrugBank</th>\n",
       "      <th>KEGG Compound</th>\n",
       "      <th>KEGG Drug</th>\n",
       "      <th>PDB</th>\n",
       "      <th>PharmGKB</th>\n",
       "      <th>PubChem Compound</th>\n",
       "      <th>PubChem Substance</th>\n",
       "    </tr>\n",
       "  </thead>\n",
       "  <tbody>\n",
       "    <tr>\n",
       "      <th>0</th>\n",
       "      <td>DCC1838</td>\n",
       "      <td>Methyclothiazide</td>\n",
       "      <td>CAS:135-07-9</td>\n",
       "      <td>NaN</td>\n",
       "      <td>NaN</td>\n",
       "      <td>DB00232</td>\n",
       "      <td>NaN</td>\n",
       "      <td>D00656</td>\n",
       "      <td>NaN</td>\n",
       "      <td>NaN</td>\n",
       "      <td>NaN</td>\n",
       "      <td>7847722.0</td>\n",
       "    </tr>\n",
       "    <tr>\n",
       "      <th>1</th>\n",
       "      <td>DCC0413</td>\n",
       "      <td>Garenoxacin</td>\n",
       "      <td>CAS:194804-75-6</td>\n",
       "      <td>NaN</td>\n",
       "      <td>NaN</td>\n",
       "      <td>NaN</td>\n",
       "      <td>NaN</td>\n",
       "      <td>D02540</td>\n",
       "      <td>NaN</td>\n",
       "      <td>NaN</td>\n",
       "      <td>124093.0</td>\n",
       "      <td>NaN</td>\n",
       "    </tr>\n",
       "    <tr>\n",
       "      <th>2</th>\n",
       "      <td>DCC0520</td>\n",
       "      <td>Betaine</td>\n",
       "      <td>CAS:107-43-7</td>\n",
       "      <td>NaN</td>\n",
       "      <td>NaN</td>\n",
       "      <td>DB01494</td>\n",
       "      <td>NaN</td>\n",
       "      <td>D07523</td>\n",
       "      <td>NaN</td>\n",
       "      <td>NaN</td>\n",
       "      <td>247.0</td>\n",
       "      <td>NaN</td>\n",
       "    </tr>\n",
       "    <tr>\n",
       "      <th>3</th>\n",
       "      <td>DCC0639</td>\n",
       "      <td>Atrasentan</td>\n",
       "      <td>CAS:173937-91-2</td>\n",
       "      <td>NaN</td>\n",
       "      <td>NaN</td>\n",
       "      <td>NaN</td>\n",
       "      <td>NaN</td>\n",
       "      <td>D03009</td>\n",
       "      <td>NaN</td>\n",
       "      <td>NaN</td>\n",
       "      <td>17397165.0</td>\n",
       "      <td>NaN</td>\n",
       "    </tr>\n",
       "    <tr>\n",
       "      <th>4</th>\n",
       "      <td>DCC0029</td>\n",
       "      <td>Lovastatin</td>\n",
       "      <td>CAS:75330-75-5</td>\n",
       "      <td>NaN</td>\n",
       "      <td>40303.0</td>\n",
       "      <td>DB00227</td>\n",
       "      <td>C07074</td>\n",
       "      <td>D00359</td>\n",
       "      <td>803</td>\n",
       "      <td>PA450272</td>\n",
       "      <td>53232.0</td>\n",
       "      <td>46508223.0</td>\n",
       "    </tr>\n",
       "  </tbody>\n",
       "</table>\n",
       "</div>"
      ],
      "text/plain": [
       "    DCC_ID              Name       CAS_Number  BindingDB    ChEBI DrugBank  \\\n",
       "0  DCC1838  Methyclothiazide     CAS:135-07-9        NaN      NaN  DB00232   \n",
       "1  DCC0413       Garenoxacin  CAS:194804-75-6        NaN      NaN      NaN   \n",
       "2  DCC0520           Betaine     CAS:107-43-7        NaN      NaN  DB01494   \n",
       "3  DCC0639        Atrasentan  CAS:173937-91-2        NaN      NaN      NaN   \n",
       "4  DCC0029        Lovastatin   CAS:75330-75-5        NaN  40303.0  DB00227   \n",
       "\n",
       "  KEGG Compound KEGG Drug  PDB  PharmGKB  PubChem Compound  PubChem Substance  \n",
       "0           NaN    D00656  NaN       NaN               NaN          7847722.0  \n",
       "1           NaN    D02540  NaN       NaN          124093.0                NaN  \n",
       "2           NaN    D07523  NaN       NaN             247.0                NaN  \n",
       "3           NaN    D03009  NaN       NaN        17397165.0                NaN  \n",
       "4        C07074    D00359  803  PA450272           53232.0         46508223.0  "
      ]
     },
     "execution_count": 6,
     "metadata": {},
     "output_type": "execute_result"
    }
   ],
   "source": [
    "dcdb_id.head()"
   ]
  },
  {
   "cell_type": "code",
   "execution_count": 7,
   "metadata": {},
   "outputs": [
    {
     "name": "stdout",
     "output_type": "stream",
     "text": [
      "171\n"
     ]
    }
   ],
   "source": [
    "dcdb_dict = dict(zip(dcdb_id['DCC_ID'], dcdb_id['DrugBank']))\n",
    "bad_keys = []\n",
    "for key, value in dcdb_dict.items():\n",
    "    if type(value) != str:\n",
    "        bad_keys.append(key)\n",
    "    if type(value) == str and not value.startswith('DB'):\n",
    "        bad_keys.append(key)\n",
    "print(len(bad_keys))\n",
    "\n",
    "for key in bad_keys:\n",
    "    del dcdb_dict[key]"
   ]
  },
  {
   "cell_type": "code",
   "execution_count": 8,
   "metadata": {},
   "outputs": [
    {
     "name": "stderr",
     "output_type": "stream",
     "text": [
      "100%|██████████| 1037/1037 [00:00<00:00, 184825.28it/s]"
     ]
    },
    {
     "name": "stdout",
     "output_type": "stream",
     "text": [
      "825\n"
     ]
    },
    {
     "name": "stderr",
     "output_type": "stream",
     "text": [
      "\n"
     ]
    }
   ],
   "source": [
    "dcdb_lst = []\n",
    "for x in tqdm(dcdb['Componets_ID']):\n",
    "    dc_ids = x.split('/')\n",
    "    db_ids = []\n",
    "    for id_ in dc_ids:\n",
    "        db_id = dcdb_dict.get(id_) # return None if not exist in the dictionary\n",
    "        db_ids.append(db_id)\n",
    "    if (np.nan not in db_ids) and (None not in db_ids):\n",
    "        dcdb_lst.append(set(db_ids))\n",
    "print(len(dcdb_lst))"
   ]
  },
  {
   "cell_type": "code",
   "execution_count": 9,
   "metadata": {},
   "outputs": [
    {
     "name": "stdout",
     "output_type": "stream",
     "text": [
      "825\n"
     ]
    }
   ],
   "source": [
    "dcdb_lst_final = []\n",
    "for x in dcdb_lst:\n",
    "    if x not in dcdb_lst_final:\n",
    "        dcdb_lst_final.append(x)\n",
    "print(len(dcdb_lst_final))"
   ]
  },
  {
   "cell_type": "code",
   "execution_count": 10,
   "metadata": {},
   "outputs": [
    {
     "name": "stdout",
     "output_type": "stream",
     "text": [
      "598\n"
     ]
    }
   ],
   "source": [
    "# Leave drug combinations with only 2 drugs\n",
    "dcdb_lst_dual = []\n",
    "for x in dcdb_lst_final:\n",
    "    if len(x) == 2:\n",
    "        dcdb_lst_dual.append(list(x))\n",
    "print(len(dcdb_lst_dual))"
   ]
  },
  {
   "cell_type": "code",
   "execution_count": 11,
   "metadata": {},
   "outputs": [],
   "source": [
    "pd.DataFrame(dcdb_lst_dual, columns=['drug_1', 'drug_2']).to_csv('database/processed/DCDB_dual.tsv', sep='\\t', index=None)"
   ]
  },
  {
   "cell_type": "code",
   "execution_count": 12,
   "metadata": {},
   "outputs": [
    {
     "data": {
      "text/html": [
       "<div>\n",
       "<style scoped>\n",
       "    .dataframe tbody tr th:only-of-type {\n",
       "        vertical-align: middle;\n",
       "    }\n",
       "\n",
       "    .dataframe tbody tr th {\n",
       "        vertical-align: top;\n",
       "    }\n",
       "\n",
       "    .dataframe thead th {\n",
       "        text-align: right;\n",
       "    }\n",
       "</style>\n",
       "<table border=\"1\" class=\"dataframe\">\n",
       "  <thead>\n",
       "    <tr style=\"text-align: right;\">\n",
       "      <th></th>\n",
       "      <th>drug_1</th>\n",
       "      <th>drug_2</th>\n",
       "    </tr>\n",
       "  </thead>\n",
       "  <tbody>\n",
       "    <tr>\n",
       "      <th>0</th>\n",
       "      <td>DB00373</td>\n",
       "      <td>DB00484</td>\n",
       "    </tr>\n",
       "    <tr>\n",
       "      <th>1</th>\n",
       "      <td>DB02300</td>\n",
       "      <td>DB00443</td>\n",
       "    </tr>\n",
       "    <tr>\n",
       "      <th>2</th>\n",
       "      <td>DB00257</td>\n",
       "      <td>DB00443</td>\n",
       "    </tr>\n",
       "    <tr>\n",
       "      <th>3</th>\n",
       "      <td>DB01034</td>\n",
       "      <td>DB01235</td>\n",
       "    </tr>\n",
       "    <tr>\n",
       "      <th>4</th>\n",
       "      <td>DB00983</td>\n",
       "      <td>DB01222</td>\n",
       "    </tr>\n",
       "  </tbody>\n",
       "</table>\n",
       "</div>"
      ],
      "text/plain": [
       "    drug_1   drug_2\n",
       "0  DB00373  DB00484\n",
       "1  DB02300  DB00443\n",
       "2  DB00257  DB00443\n",
       "3  DB01034  DB01235\n",
       "4  DB00983  DB01222"
      ]
     },
     "execution_count": 12,
     "metadata": {},
     "output_type": "execute_result"
    }
   ],
   "source": [
    "dcdb_dual = pd.read_csv('database/processed/DCDB_dual.tsv', sep='\\t')\n",
    "dcdb_dual.head()"
   ]
  },
  {
   "attachments": {},
   "cell_type": "markdown",
   "metadata": {},
   "source": [
    "### C-DCDB: Continuous Drug Combination Database"
   ]
  },
  {
   "cell_type": "code",
   "execution_count": 13,
   "metadata": {},
   "outputs": [
    {
     "name": "stdout",
     "output_type": "stream",
     "text": [
      "[('aact_combs',), ('aact_combs_with_identifiers',), ('all_combs_unormalized',), ('conditions',), ('design_group',), ('mesh_terms',), ('orangebook_combs',), ('patents_ipc',), ('patents_metadata',), ('references',), ('transformed_patents_drug',), ('trials',), ('web_preview',)]\n"
     ]
    }
   ],
   "source": [
    "con = sqlite3.connect('database/c_dcdb/c_dcdb.sqlite')\n",
    "cursor = con.cursor()\n",
    "cursor.execute(\"SELECT name FROM sqlite_master WHERE type='table';\")\n",
    "print(cursor.fetchall())"
   ]
  },
  {
   "cell_type": "code",
   "execution_count": 14,
   "metadata": {},
   "outputs": [
    {
     "data": {
      "text/html": [
       "<div>\n",
       "<style scoped>\n",
       "    .dataframe tbody tr th:only-of-type {\n",
       "        vertical-align: middle;\n",
       "    }\n",
       "\n",
       "    .dataframe tbody tr th {\n",
       "        vertical-align: top;\n",
       "    }\n",
       "\n",
       "    .dataframe thead th {\n",
       "        text-align: right;\n",
       "    }\n",
       "</style>\n",
       "<table border=\"1\" class=\"dataframe\">\n",
       "  <thead>\n",
       "    <tr style=\"text-align: right;\">\n",
       "      <th></th>\n",
       "      <th>index</th>\n",
       "      <th>drugs</th>\n",
       "      <th>drugbank_identifiers</th>\n",
       "      <th>pubchem_identifiers</th>\n",
       "      <th>source_id</th>\n",
       "      <th>source</th>\n",
       "    </tr>\n",
       "  </thead>\n",
       "  <tbody>\n",
       "    <tr>\n",
       "      <th>0</th>\n",
       "      <td>0</td>\n",
       "      <td>[[\"foscarnet\", \"Foscavir\"], [\"ganciclovir\", \"C...</td>\n",
       "      <td>[\"DB00529\", \"DB01004\"]</td>\n",
       "      <td>[\"-1\", \"-1\"]</td>\n",
       "      <td>NCT00000134</td>\n",
       "      <td>clinicaltrials.gov</td>\n",
       "    </tr>\n",
       "    <tr>\n",
       "      <th>1</th>\n",
       "      <td>1</td>\n",
       "      <td>[[\"ganciclovir\"], [\"foscarnet\", \"Foscavir\"]]</td>\n",
       "      <td>[\"DB01004\", \"DB00529\"]</td>\n",
       "      <td>[\"-1\", \"-1\"]</td>\n",
       "      <td>NCT00000136</td>\n",
       "      <td>clinicaltrials.gov</td>\n",
       "    </tr>\n",
       "    <tr>\n",
       "      <th>2</th>\n",
       "      <td>2</td>\n",
       "      <td>[[\"ganciclovir\"], [\"foscarnet\", \"Foscavir\"]]</td>\n",
       "      <td>[\"DB01004\", \"DB00529\"]</td>\n",
       "      <td>[\"-1\", \"-1\"]</td>\n",
       "      <td>NCT00000136</td>\n",
       "      <td>clinicaltrials.gov</td>\n",
       "    </tr>\n",
       "    <tr>\n",
       "      <th>3</th>\n",
       "      <td>3</td>\n",
       "      <td>[[\"cycloserine\"], [\"clozapine\"]]</td>\n",
       "      <td>[\"DB00260\", \"DB00363\"]</td>\n",
       "      <td>[\"CID6234\", \"CID2818\"]</td>\n",
       "      <td>NCT00000372</td>\n",
       "      <td>clinicaltrials.gov</td>\n",
       "    </tr>\n",
       "    <tr>\n",
       "      <th>4</th>\n",
       "      <td>4</td>\n",
       "      <td>[[\"PTH protein, human\", \"teriparatide\"], [\"ale...</td>\n",
       "      <td>[\"DB06285\", \"DB00630\"]</td>\n",
       "      <td>[\"CID16133850\", \"CID2088\"]</td>\n",
       "      <td>NCT00000400</td>\n",
       "      <td>clinicaltrials.gov</td>\n",
       "    </tr>\n",
       "  </tbody>\n",
       "</table>\n",
       "</div>"
      ],
      "text/plain": [
       "   index                                              drugs  \\\n",
       "0      0  [[\"foscarnet\", \"Foscavir\"], [\"ganciclovir\", \"C...   \n",
       "1      1       [[\"ganciclovir\"], [\"foscarnet\", \"Foscavir\"]]   \n",
       "2      2       [[\"ganciclovir\"], [\"foscarnet\", \"Foscavir\"]]   \n",
       "3      3                   [[\"cycloserine\"], [\"clozapine\"]]   \n",
       "4      4  [[\"PTH protein, human\", \"teriparatide\"], [\"ale...   \n",
       "\n",
       "     drugbank_identifiers         pubchem_identifiers    source_id  \\\n",
       "0  [\"DB00529\", \"DB01004\"]                [\"-1\", \"-1\"]  NCT00000134   \n",
       "1  [\"DB01004\", \"DB00529\"]                [\"-1\", \"-1\"]  NCT00000136   \n",
       "2  [\"DB01004\", \"DB00529\"]                [\"-1\", \"-1\"]  NCT00000136   \n",
       "3  [\"DB00260\", \"DB00363\"]      [\"CID6234\", \"CID2818\"]  NCT00000372   \n",
       "4  [\"DB06285\", \"DB00630\"]  [\"CID16133850\", \"CID2088\"]  NCT00000400   \n",
       "\n",
       "               source  \n",
       "0  clinicaltrials.gov  \n",
       "1  clinicaltrials.gov  \n",
       "2  clinicaltrials.gov  \n",
       "3  clinicaltrials.gov  \n",
       "4  clinicaltrials.gov  "
      ]
     },
     "execution_count": 14,
     "metadata": {},
     "output_type": "execute_result"
    }
   ],
   "source": [
    "df = pd.read_sql_query(\"SELECT * from all_combs_unormalized\", con)\n",
    "df.head()"
   ]
  },
  {
   "cell_type": "code",
   "execution_count": 15,
   "metadata": {},
   "outputs": [
    {
     "name": "stdout",
     "output_type": "stream",
     "text": [
      "43865\n"
     ]
    }
   ],
   "source": [
    "c_dcdb_lst = []\n",
    "for x in df['drugbank_identifiers']:\n",
    "    x = ast.literal_eval(x)\n",
    "    c_dcdb_lst.append(set(x))\n",
    "print(len(c_dcdb_lst))"
   ]
  },
  {
   "cell_type": "code",
   "execution_count": 16,
   "metadata": {},
   "outputs": [
    {
     "name": "stdout",
     "output_type": "stream",
     "text": [
      "15336\n"
     ]
    }
   ],
   "source": [
    "c_dcdb_lst_final = []\n",
    "for x in c_dcdb_lst:\n",
    "    flag = 0\n",
    "    for y in x:\n",
    "        if not y.startswith('DB'):\n",
    "            flag += 1\n",
    "    if flag != 0:\n",
    "        continue\n",
    "\n",
    "    if x not in c_dcdb_lst_final:\n",
    "        c_dcdb_lst_final.append(x)\n",
    "\n",
    "print(len(c_dcdb_lst_final))"
   ]
  },
  {
   "cell_type": "code",
   "execution_count": 17,
   "metadata": {},
   "outputs": [
    {
     "name": "stdout",
     "output_type": "stream",
     "text": [
      "9092\n"
     ]
    }
   ],
   "source": [
    "# Leave drug combinations with only 2 drugs\n",
    "c_dcdb_lst_dual = []\n",
    "for x in c_dcdb_lst_final:\n",
    "    if len(x) == 2:\n",
    "        c_dcdb_lst_dual.append(list(x))\n",
    "print(len(c_dcdb_lst_dual))"
   ]
  },
  {
   "cell_type": "code",
   "execution_count": 18,
   "metadata": {},
   "outputs": [
    {
     "data": {
      "text/html": [
       "<div>\n",
       "<style scoped>\n",
       "    .dataframe tbody tr th:only-of-type {\n",
       "        vertical-align: middle;\n",
       "    }\n",
       "\n",
       "    .dataframe tbody tr th {\n",
       "        vertical-align: top;\n",
       "    }\n",
       "\n",
       "    .dataframe thead th {\n",
       "        text-align: right;\n",
       "    }\n",
       "</style>\n",
       "<table border=\"1\" class=\"dataframe\">\n",
       "  <thead>\n",
       "    <tr style=\"text-align: right;\">\n",
       "      <th></th>\n",
       "      <th>drug_1</th>\n",
       "      <th>drug_2</th>\n",
       "    </tr>\n",
       "  </thead>\n",
       "  <tbody>\n",
       "    <tr>\n",
       "      <th>0</th>\n",
       "      <td>DB00529</td>\n",
       "      <td>DB01004</td>\n",
       "    </tr>\n",
       "    <tr>\n",
       "      <th>1</th>\n",
       "      <td>DB00363</td>\n",
       "      <td>DB00260</td>\n",
       "    </tr>\n",
       "    <tr>\n",
       "      <th>2</th>\n",
       "      <td>DB06285</td>\n",
       "      <td>DB00630</td>\n",
       "    </tr>\n",
       "    <tr>\n",
       "      <th>3</th>\n",
       "      <td>DB01104</td>\n",
       "      <td>DB00704</td>\n",
       "    </tr>\n",
       "    <tr>\n",
       "      <th>4</th>\n",
       "      <td>DB00375</td>\n",
       "      <td>DB00227</td>\n",
       "    </tr>\n",
       "  </tbody>\n",
       "</table>\n",
       "</div>"
      ],
      "text/plain": [
       "    drug_1   drug_2\n",
       "0  DB00529  DB01004\n",
       "1  DB00363  DB00260\n",
       "2  DB06285  DB00630\n",
       "3  DB01104  DB00704\n",
       "4  DB00375  DB00227"
      ]
     },
     "execution_count": 18,
     "metadata": {},
     "output_type": "execute_result"
    }
   ],
   "source": [
    "pd.DataFrame(c_dcdb_lst_dual, columns=['drug_1', 'drug_2']).to_csv('database/processed/C_DCDB_dual.tsv', sep='\\t', index=None)\n",
    "c_dcdb_dual = pd.read_csv('database/processed/C_DCDB_dual.tsv', sep='\\t')\n",
    "c_dcdb_dual.head()"
   ]
  },
  {
   "attachments": {},
   "cell_type": "markdown",
   "metadata": {},
   "source": [
    "### TWOSIDES"
   ]
  },
  {
   "cell_type": "code",
   "execution_count": 2,
   "metadata": {},
   "outputs": [],
   "source": [
    "from tdc.multi_pred import DDI"
   ]
  },
  {
   "cell_type": "code",
   "execution_count": 3,
   "metadata": {},
   "outputs": [
    {
     "name": "stderr",
     "output_type": "stream",
     "text": [
      "Found local copy...\n",
      "Loading...\n",
      "Done!\n"
     ]
    }
   ],
   "source": [
    "data = DDI(name='TWOSIDES')"
   ]
  },
  {
   "cell_type": "code",
   "execution_count": 4,
   "metadata": {},
   "outputs": [
    {
     "data": {
      "text/html": [
       "<div>\n",
       "<style scoped>\n",
       "    .dataframe tbody tr th:only-of-type {\n",
       "        vertical-align: middle;\n",
       "    }\n",
       "\n",
       "    .dataframe tbody tr th {\n",
       "        vertical-align: top;\n",
       "    }\n",
       "\n",
       "    .dataframe thead th {\n",
       "        text-align: right;\n",
       "    }\n",
       "</style>\n",
       "<table border=\"1\" class=\"dataframe\">\n",
       "  <thead>\n",
       "    <tr style=\"text-align: right;\">\n",
       "      <th></th>\n",
       "      <th>Drug1_ID</th>\n",
       "      <th>Drug1</th>\n",
       "      <th>Drug2_ID</th>\n",
       "      <th>Drug2</th>\n",
       "      <th>Y</th>\n",
       "    </tr>\n",
       "  </thead>\n",
       "  <tbody>\n",
       "    <tr>\n",
       "      <th>0</th>\n",
       "      <td>CID000002173</td>\n",
       "      <td>CC1(C(N2C(S1)C(C2=O)NC(=O)C(C3=CC=CC=C3)N)C(=O...</td>\n",
       "      <td>CID000003345</td>\n",
       "      <td>CCC(=O)N(C1CCN(CC1)CCC2=CC=CC=C2)C3=CC=CC=C3</td>\n",
       "      <td>1024</td>\n",
       "    </tr>\n",
       "    <tr>\n",
       "      <th>1</th>\n",
       "      <td>CID000002173</td>\n",
       "      <td>CC1(C(N2C(S1)C(C2=O)NC(=O)C(C3=CC=CC=C3)N)C(=O...</td>\n",
       "      <td>CID000003345</td>\n",
       "      <td>CCC(=O)N(C1CCN(CC1)CCC2=CC=CC=C2)C3=CC=CC=C3</td>\n",
       "      <td>767</td>\n",
       "    </tr>\n",
       "    <tr>\n",
       "      <th>2</th>\n",
       "      <td>CID000002173</td>\n",
       "      <td>CC1(C(N2C(S1)C(C2=O)NC(=O)C(C3=CC=CC=C3)N)C(=O...</td>\n",
       "      <td>CID000003345</td>\n",
       "      <td>CCC(=O)N(C1CCN(CC1)CCC2=CC=CC=C2)C3=CC=CC=C3</td>\n",
       "      <td>79</td>\n",
       "    </tr>\n",
       "    <tr>\n",
       "      <th>3</th>\n",
       "      <td>CID000002173</td>\n",
       "      <td>CC1(C(N2C(S1)C(C2=O)NC(=O)C(C3=CC=CC=C3)N)C(=O...</td>\n",
       "      <td>CID000003345</td>\n",
       "      <td>CCC(=O)N(C1CCN(CC1)CCC2=CC=CC=C2)C3=CC=CC=C3</td>\n",
       "      <td>25</td>\n",
       "    </tr>\n",
       "    <tr>\n",
       "      <th>4</th>\n",
       "      <td>CID000002173</td>\n",
       "      <td>CC1(C(N2C(S1)C(C2=O)NC(=O)C(C3=CC=CC=C3)N)C(=O...</td>\n",
       "      <td>CID000003345</td>\n",
       "      <td>CCC(=O)N(C1CCN(CC1)CCC2=CC=CC=C2)C3=CC=CC=C3</td>\n",
       "      <td>85</td>\n",
       "    </tr>\n",
       "    <tr>\n",
       "      <th>...</th>\n",
       "      <td>...</td>\n",
       "      <td>...</td>\n",
       "      <td>...</td>\n",
       "      <td>...</td>\n",
       "      <td>...</td>\n",
       "    </tr>\n",
       "    <tr>\n",
       "      <th>4649436</th>\n",
       "      <td>CID000003461</td>\n",
       "      <td>C1=CN(C(=O)N=C1N)C2C(C(C(O2)CO)O)(F)F</td>\n",
       "      <td>CID000003954</td>\n",
       "      <td>CN(C)C(=O)C(CC[NH+]1CCC(CC1)(C2=CC=C(C=C2)Cl)O...</td>\n",
       "      <td>1008</td>\n",
       "    </tr>\n",
       "    <tr>\n",
       "      <th>4649437</th>\n",
       "      <td>CID000003461</td>\n",
       "      <td>C1=CN(C(=O)N=C1N)C2C(C(C(O2)CO)O)(F)F</td>\n",
       "      <td>CID000003954</td>\n",
       "      <td>CN(C)C(=O)C(CC[NH+]1CCC(CC1)(C2=CC=C(C=C2)Cl)O...</td>\n",
       "      <td>769</td>\n",
       "    </tr>\n",
       "    <tr>\n",
       "      <th>4649438</th>\n",
       "      <td>CID000003461</td>\n",
       "      <td>C1=CN(C(=O)N=C1N)C2C(C(C(O2)CO)O)(F)F</td>\n",
       "      <td>CID000003954</td>\n",
       "      <td>CN(C)C(=O)C(CC[NH+]1CCC(CC1)(C2=CC=C(C=C2)Cl)O...</td>\n",
       "      <td>930</td>\n",
       "    </tr>\n",
       "    <tr>\n",
       "      <th>4649439</th>\n",
       "      <td>CID000003461</td>\n",
       "      <td>C1=CN(C(=O)N=C1N)C2C(C(C(O2)CO)O)(F)F</td>\n",
       "      <td>CID000003954</td>\n",
       "      <td>CN(C)C(=O)C(CC[NH+]1CCC(CC1)(C2=CC=C(C=C2)Cl)O...</td>\n",
       "      <td>72</td>\n",
       "    </tr>\n",
       "    <tr>\n",
       "      <th>4649440</th>\n",
       "      <td>CID000003461</td>\n",
       "      <td>C1=CN(C(=O)N=C1N)C2C(C(C(O2)CO)O)(F)F</td>\n",
       "      <td>CID000003954</td>\n",
       "      <td>CN(C)C(=O)C(CC[NH+]1CCC(CC1)(C2=CC=C(C=C2)Cl)O...</td>\n",
       "      <td>836</td>\n",
       "    </tr>\n",
       "  </tbody>\n",
       "</table>\n",
       "<p>4649441 rows × 5 columns</p>\n",
       "</div>"
      ],
      "text/plain": [
       "             Drug1_ID                                              Drug1  \\\n",
       "0        CID000002173  CC1(C(N2C(S1)C(C2=O)NC(=O)C(C3=CC=CC=C3)N)C(=O...   \n",
       "1        CID000002173  CC1(C(N2C(S1)C(C2=O)NC(=O)C(C3=CC=CC=C3)N)C(=O...   \n",
       "2        CID000002173  CC1(C(N2C(S1)C(C2=O)NC(=O)C(C3=CC=CC=C3)N)C(=O...   \n",
       "3        CID000002173  CC1(C(N2C(S1)C(C2=O)NC(=O)C(C3=CC=CC=C3)N)C(=O...   \n",
       "4        CID000002173  CC1(C(N2C(S1)C(C2=O)NC(=O)C(C3=CC=CC=C3)N)C(=O...   \n",
       "...               ...                                                ...   \n",
       "4649436  CID000003461              C1=CN(C(=O)N=C1N)C2C(C(C(O2)CO)O)(F)F   \n",
       "4649437  CID000003461              C1=CN(C(=O)N=C1N)C2C(C(C(O2)CO)O)(F)F   \n",
       "4649438  CID000003461              C1=CN(C(=O)N=C1N)C2C(C(C(O2)CO)O)(F)F   \n",
       "4649439  CID000003461              C1=CN(C(=O)N=C1N)C2C(C(C(O2)CO)O)(F)F   \n",
       "4649440  CID000003461              C1=CN(C(=O)N=C1N)C2C(C(C(O2)CO)O)(F)F   \n",
       "\n",
       "             Drug2_ID                                              Drug2     Y  \n",
       "0        CID000003345       CCC(=O)N(C1CCN(CC1)CCC2=CC=CC=C2)C3=CC=CC=C3  1024  \n",
       "1        CID000003345       CCC(=O)N(C1CCN(CC1)CCC2=CC=CC=C2)C3=CC=CC=C3   767  \n",
       "2        CID000003345       CCC(=O)N(C1CCN(CC1)CCC2=CC=CC=C2)C3=CC=CC=C3    79  \n",
       "3        CID000003345       CCC(=O)N(C1CCN(CC1)CCC2=CC=CC=C2)C3=CC=CC=C3    25  \n",
       "4        CID000003345       CCC(=O)N(C1CCN(CC1)CCC2=CC=CC=C2)C3=CC=CC=C3    85  \n",
       "...               ...                                                ...   ...  \n",
       "4649436  CID000003954  CN(C)C(=O)C(CC[NH+]1CCC(CC1)(C2=CC=C(C=C2)Cl)O...  1008  \n",
       "4649437  CID000003954  CN(C)C(=O)C(CC[NH+]1CCC(CC1)(C2=CC=C(C=C2)Cl)O...   769  \n",
       "4649438  CID000003954  CN(C)C(=O)C(CC[NH+]1CCC(CC1)(C2=CC=C(C=C2)Cl)O...   930  \n",
       "4649439  CID000003954  CN(C)C(=O)C(CC[NH+]1CCC(CC1)(C2=CC=C(C=C2)Cl)O...    72  \n",
       "4649440  CID000003954  CN(C)C(=O)C(CC[NH+]1CCC(CC1)(C2=CC=C(C=C2)Cl)O...   836  \n",
       "\n",
       "[4649441 rows x 5 columns]"
      ]
     },
     "execution_count": 4,
     "metadata": {},
     "output_type": "execute_result"
    }
   ],
   "source": [
    "data.get_data()"
   ]
  },
  {
   "cell_type": "code",
   "execution_count": 5,
   "metadata": {},
   "outputs": [],
   "source": [
    "twosides = data.get_data()[['Drug1_ID', 'Drug2_ID']]\n",
    "twosides.drop_duplicates(inplace=True)"
   ]
  },
  {
   "cell_type": "code",
   "execution_count": 6,
   "metadata": {},
   "outputs": [
    {
     "data": {
      "text/plain": [
       "63473"
      ]
     },
     "execution_count": 6,
     "metadata": {},
     "output_type": "execute_result"
    }
   ],
   "source": [
    "len(twosides)"
   ]
  },
  {
   "cell_type": "code",
   "execution_count": 7,
   "metadata": {},
   "outputs": [
    {
     "data": {
      "text/html": [
       "<div>\n",
       "<style scoped>\n",
       "    .dataframe tbody tr th:only-of-type {\n",
       "        vertical-align: middle;\n",
       "    }\n",
       "\n",
       "    .dataframe tbody tr th {\n",
       "        vertical-align: top;\n",
       "    }\n",
       "\n",
       "    .dataframe thead th {\n",
       "        text-align: right;\n",
       "    }\n",
       "</style>\n",
       "<table border=\"1\" class=\"dataframe\">\n",
       "  <thead>\n",
       "    <tr style=\"text-align: right;\">\n",
       "      <th></th>\n",
       "      <th>Drug1_ID</th>\n",
       "      <th>Drug2_ID</th>\n",
       "    </tr>\n",
       "  </thead>\n",
       "  <tbody>\n",
       "    <tr>\n",
       "      <th>0</th>\n",
       "      <td>CID000002173</td>\n",
       "      <td>CID000003345</td>\n",
       "    </tr>\n",
       "    <tr>\n",
       "      <th>56</th>\n",
       "      <td>CID000005206</td>\n",
       "      <td>CID000009433</td>\n",
       "    </tr>\n",
       "    <tr>\n",
       "      <th>68</th>\n",
       "      <td>CID000003929</td>\n",
       "      <td>CID000150610</td>\n",
       "    </tr>\n",
       "    <tr>\n",
       "      <th>92</th>\n",
       "      <td>CID000001302</td>\n",
       "      <td>CID000005064</td>\n",
       "    </tr>\n",
       "    <tr>\n",
       "      <th>226</th>\n",
       "      <td>CID000005267</td>\n",
       "      <td>CID000010631</td>\n",
       "    </tr>\n",
       "  </tbody>\n",
       "</table>\n",
       "</div>"
      ],
      "text/plain": [
       "         Drug1_ID      Drug2_ID\n",
       "0    CID000002173  CID000003345\n",
       "56   CID000005206  CID000009433\n",
       "68   CID000003929  CID000150610\n",
       "92   CID000001302  CID000005064\n",
       "226  CID000005267  CID000010631"
      ]
     },
     "execution_count": 7,
     "metadata": {},
     "output_type": "execute_result"
    }
   ],
   "source": [
    "twosides.head()"
   ]
  },
  {
   "cell_type": "code",
   "execution_count": 8,
   "metadata": {},
   "outputs": [],
   "source": [
    "db_table = pd.read_csv('database/drugbank_all_drug_links.csv')"
   ]
  },
  {
   "cell_type": "code",
   "execution_count": 9,
   "metadata": {},
   "outputs": [],
   "source": [
    "db_table = db_table[['DrugBank ID', 'PubChem Compound ID']]"
   ]
  },
  {
   "cell_type": "code",
   "execution_count": 10,
   "metadata": {},
   "outputs": [],
   "source": [
    "db_table.dropna(inplace=True)"
   ]
  },
  {
   "cell_type": "code",
   "execution_count": 11,
   "metadata": {},
   "outputs": [],
   "source": [
    "db_table['PubChem Compound ID'] = db_table['PubChem Compound ID'].apply(lambda x: str(int(x)))"
   ]
  },
  {
   "cell_type": "code",
   "execution_count": 12,
   "metadata": {},
   "outputs": [
    {
     "data": {
      "text/html": [
       "<div>\n",
       "<style scoped>\n",
       "    .dataframe tbody tr th:only-of-type {\n",
       "        vertical-align: middle;\n",
       "    }\n",
       "\n",
       "    .dataframe tbody tr th {\n",
       "        vertical-align: top;\n",
       "    }\n",
       "\n",
       "    .dataframe thead th {\n",
       "        text-align: right;\n",
       "    }\n",
       "</style>\n",
       "<table border=\"1\" class=\"dataframe\">\n",
       "  <thead>\n",
       "    <tr style=\"text-align: right;\">\n",
       "      <th></th>\n",
       "      <th>DrugBank ID</th>\n",
       "      <th>PubChem Compound ID</th>\n",
       "    </tr>\n",
       "  </thead>\n",
       "  <tbody>\n",
       "    <tr>\n",
       "      <th>5</th>\n",
       "      <td>DB00006</td>\n",
       "      <td>16129704</td>\n",
       "    </tr>\n",
       "    <tr>\n",
       "      <th>13</th>\n",
       "      <td>DB00014</td>\n",
       "      <td>5311128</td>\n",
       "    </tr>\n",
       "    <tr>\n",
       "      <th>25</th>\n",
       "      <td>DB00027</td>\n",
       "      <td>45267103</td>\n",
       "    </tr>\n",
       "    <tr>\n",
       "      <th>47</th>\n",
       "      <td>DB00050</td>\n",
       "      <td>25074887</td>\n",
       "    </tr>\n",
       "    <tr>\n",
       "      <th>74</th>\n",
       "      <td>DB00080</td>\n",
       "      <td>16134395</td>\n",
       "    </tr>\n",
       "  </tbody>\n",
       "</table>\n",
       "</div>"
      ],
      "text/plain": [
       "   DrugBank ID PubChem Compound ID\n",
       "5      DB00006            16129704\n",
       "13     DB00014             5311128\n",
       "25     DB00027            45267103\n",
       "47     DB00050            25074887\n",
       "74     DB00080            16134395"
      ]
     },
     "execution_count": 12,
     "metadata": {},
     "output_type": "execute_result"
    }
   ],
   "source": [
    "db_table.head()"
   ]
  },
  {
   "cell_type": "code",
   "execution_count": 40,
   "metadata": {},
   "outputs": [
    {
     "data": {
      "text/html": [
       "<div>\n",
       "<style scoped>\n",
       "    .dataframe tbody tr th:only-of-type {\n",
       "        vertical-align: middle;\n",
       "    }\n",
       "\n",
       "    .dataframe tbody tr th {\n",
       "        vertical-align: top;\n",
       "    }\n",
       "\n",
       "    .dataframe thead th {\n",
       "        text-align: right;\n",
       "    }\n",
       "</style>\n",
       "<table border=\"1\" class=\"dataframe\">\n",
       "  <thead>\n",
       "    <tr style=\"text-align: right;\">\n",
       "      <th></th>\n",
       "      <th>DrugBank ID</th>\n",
       "      <th>PubChem Compound ID</th>\n",
       "    </tr>\n",
       "  </thead>\n",
       "  <tbody>\n",
       "    <tr>\n",
       "      <th>1152</th>\n",
       "      <td>DB01173</td>\n",
       "      <td>4601</td>\n",
       "    </tr>\n",
       "  </tbody>\n",
       "</table>\n",
       "</div>"
      ],
      "text/plain": [
       "     DrugBank ID PubChem Compound ID\n",
       "1152     DB01173                4601"
      ]
     },
     "execution_count": 40,
     "metadata": {},
     "output_type": "execute_result"
    }
   ],
   "source": [
    "db_table[db_table['PubChem Compound ID'] == '4601']"
   ]
  },
  {
   "attachments": {},
   "cell_type": "markdown",
   "metadata": {},
   "source": [
    "<span style=\"color:red\">TODO - fill in TWOSIDES processing code</span>"
   ]
  },
  {
   "attachments": {},
   "cell_type": "markdown",
   "metadata": {},
   "source": [
    "## Create labels (Drug Combination, Drug-Drug Interaction)"
   ]
  },
  {
   "cell_type": "code",
   "execution_count": 5,
   "metadata": {},
   "outputs": [],
   "source": [
    "'''DataLoader'''\n",
    "dataloader = LoadData()\n",
    "\n",
    "# get_dict\n",
    "drug_id2name, drug_name2id = dataloader.get_dict(type='drug')\n",
    "# protein_id2name, protein_name2id = dataloader.get_dict(type='protein')\n",
    "# indication_id2name, indication_name2id = dataloader.get_dict(type='indication')\n",
    "# biof_id2name, biof_name2id = dataloader.get_dict(type='biological_function')"
   ]
  },
  {
   "attachments": {},
   "cell_type": "markdown",
   "metadata": {},
   "source": [
    "Check Common Drugs Between MSI and DCDB / C_DCDB / TWOSIDES_DDI"
   ]
  },
  {
   "cell_type": "code",
   "execution_count": 6,
   "metadata": {},
   "outputs": [],
   "source": [
    "msi_drug_list = list(drug_id2name.keys())\n",
    "\n",
    "dcdb_dual = pd.read_csv('database/DCDB_dual.tsv', sep='\\t')\n",
    "c_dcdb_dual = pd.read_csv('database/C_DCDB_dual.tsv', sep='\\t')\n",
    "twosides_ddi = pd.read_csv('database/TWOSIDES_dual.tsv', sep='\\t')"
   ]
  },
  {
   "cell_type": "code",
   "execution_count": 7,
   "metadata": {},
   "outputs": [],
   "source": [
    "def leave_common_drugs(df):\n",
    "    count = 0\n",
    "    for row in df.iterrows():\n",
    "        a, b = row[1][0], row[1][1]\n",
    "        if a in msi_drug_list and b in msi_drug_list:\n",
    "            count += 1\n",
    "    print(f'Original number of rows: {len(df)}')\n",
    "    print(f'Filtered number of rows: {count}')\n",
    "    return df[df['drug_1'].isin(msi_drug_list) & df['drug_2'].isin(msi_drug_list)]"
   ]
  },
  {
   "cell_type": "code",
   "execution_count": 8,
   "metadata": {},
   "outputs": [
    {
     "name": "stdout",
     "output_type": "stream",
     "text": [
      "Original number of rows: 598\n",
      "Filtered number of rows: 455\n",
      "Original number of rows: 9092\n",
      "Filtered number of rows: 4221\n",
      "Original number of rows: 18530\n",
      "Filtered number of rows: 15710\n"
     ]
    }
   ],
   "source": [
    "dcdb_dual = leave_common_drugs(dcdb_dual)\n",
    "c_dcdb_dual = leave_common_drugs(c_dcdb_dual)\n",
    "twosides_ddi = leave_common_drugs(twosides_ddi)"
   ]
  },
  {
   "attachments": {},
   "cell_type": "markdown",
   "metadata": {},
   "source": [
    "Save DCDB, C_DCDB"
   ]
  },
  {
   "cell_type": "code",
   "execution_count": 9,
   "metadata": {},
   "outputs": [],
   "source": [
    "dcdb_dual.to_csv('data/labels/DCDB_msi.tsv', sep='\\t', index=None)\n",
    "c_dcdb_dual.to_csv('data/labels/C_DCDB_msi.tsv', sep='\\t', index=None)"
   ]
  },
  {
   "attachments": {},
   "cell_type": "markdown",
   "metadata": {},
   "source": [
    "Combine DCDB, C_DCDB"
   ]
  },
  {
   "cell_type": "code",
   "execution_count": 10,
   "metadata": {},
   "outputs": [],
   "source": [
    "dcdb_dual = pd.read_csv('data/labels/DCDB_msi.tsv', sep='\\t')\n",
    "c_dcdb_dual = pd.read_csv('data/labels/C_DCDB_msi.tsv', sep='\\t')\n",
    "\n",
    "dcdb_drug_set = []\n",
    "for row in dcdb_dual.iterrows():\n",
    "    dcdb_drug_set.append(set([row[1][0], row[1][1]]))\n",
    "c_dcdb_drug_set = []\n",
    "for row in c_dcdb_dual.iterrows():\n",
    "    c_dcdb_drug_set.append(set([row[1][0], row[1][1]]))\n",
    "\n",
    "not_common_idx = []\n",
    "for i in range(len(dcdb_drug_set)):\n",
    "    if dcdb_drug_set[i] not in c_dcdb_drug_set:\n",
    "        not_common_idx.append(i)\n",
    "\n",
    "dc = pd.concat([c_dcdb_dual, dcdb_dual.iloc[not_common_idx]], axis=0)\n",
    "dc.reset_index(drop=True, inplace=True)\n",
    "\n",
    "dc.to_csv('data/labels/DC_combined_msi.tsv', sep='\\t', index=None)"
   ]
  },
  {
   "attachments": {},
   "cell_type": "markdown",
   "metadata": {},
   "source": [
    "Leave unique Drug-Drug Interaction pair (DDI - DC)"
   ]
  },
  {
   "cell_type": "code",
   "execution_count": 11,
   "metadata": {},
   "outputs": [
    {
     "name": "stdout",
     "output_type": "stream",
     "text": [
      "Original number of rows: 15710\n",
      "Filtered number of rows: 15710\n"
     ]
    }
   ],
   "source": [
    "dc = pd.read_csv('data/labels/DC_combined_msi.tsv', sep='\\t')\n",
    "\n",
    "twosides_ddi = leave_common_drugs(twosides_ddi)"
   ]
  },
  {
   "cell_type": "code",
   "execution_count": 12,
   "metadata": {},
   "outputs": [],
   "source": [
    "def leave_unique_pair(dc, ddi):\n",
    "    dc_set_list = []\n",
    "    for row in dc.iterrows():\n",
    "        dc_set_list.append(set([row[1][0], row[1][1]]))\n",
    "    ddi_set_list = []\n",
    "    for row in ddi.iterrows():\n",
    "        ddi_set_list.append(set([row[1][0], row[1][1]]))\n",
    "    not_common_idx = []\n",
    "    for i in range(len(ddi_set_list)):\n",
    "        if ddi_set_list[i] not in dc_set_list:\n",
    "            not_common_idx.append(i)\n",
    "    temp = ddi.iloc[not_common_idx]\n",
    "    return temp.reset_index(drop=True)"
   ]
  },
  {
   "cell_type": "code",
   "execution_count": 13,
   "metadata": {},
   "outputs": [
    {
     "name": "stdout",
     "output_type": "stream",
     "text": [
      "Number of TWOSIDES pairs: 15300\n"
     ]
    }
   ],
   "source": [
    "twosides_ddi = leave_unique_pair(dc, twosides_ddi)\n",
    "print(f\"Number of TWOSIDES pairs: {len(twosides_ddi)}\")"
   ]
  },
  {
   "cell_type": "code",
   "execution_count": 14,
   "metadata": {},
   "outputs": [],
   "source": [
    "twosides_ddi.to_csv('data/labels/TWOSIDES_msi.tsv', sep='\\t', index=None)"
   ]
  },
  {
   "cell_type": "code",
   "execution_count": null,
   "metadata": {},
   "outputs": [],
   "source": []
  }
 ],
 "metadata": {
  "kernelspec": {
   "display_name": "dcpred",
   "language": "python",
   "name": "python3"
  },
  "language_info": {
   "codemirror_mode": {
    "name": "ipython",
    "version": 3
   },
   "file_extension": ".py",
   "mimetype": "text/x-python",
   "name": "python",
   "nbconvert_exporter": "python",
   "pygments_lexer": "ipython3",
   "version": "3.10.9"
  },
  "orig_nbformat": 4
 },
 "nbformat": 4,
 "nbformat_minor": 2
}
