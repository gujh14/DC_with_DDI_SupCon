{
 "cells": [
  {
   "cell_type": "code",
   "execution_count": 1,
   "metadata": {},
   "outputs": [],
   "source": [
    "import pandas as pd\n",
    "import random\n",
    "import pickle\n",
    "\n",
    "from MSI.load_msi_data import LoadData"
   ]
  },
  {
   "cell_type": "code",
   "execution_count": 2,
   "metadata": {},
   "outputs": [],
   "source": [
    "dataloader = LoadData()\n",
    "drug_id2name, _ = dataloader.get_dict(type='drug')"
   ]
  },
  {
   "cell_type": "code",
   "execution_count": 3,
   "metadata": {},
   "outputs": [],
   "source": [
    "dc = pd.read_table('data/labels/DC_combined_msi.tsv')\n",
    "ts = pd.read_table('data/labels/TWOSIDES_msi.tsv')"
   ]
  },
  {
   "cell_type": "code",
   "execution_count": 4,
   "metadata": {},
   "outputs": [
    {
     "data": {
      "text/html": [
       "<div>\n",
       "<style scoped>\n",
       "    .dataframe tbody tr th:only-of-type {\n",
       "        vertical-align: middle;\n",
       "    }\n",
       "\n",
       "    .dataframe tbody tr th {\n",
       "        vertical-align: top;\n",
       "    }\n",
       "\n",
       "    .dataframe thead th {\n",
       "        text-align: right;\n",
       "    }\n",
       "</style>\n",
       "<table border=\"1\" class=\"dataframe\">\n",
       "  <thead>\n",
       "    <tr style=\"text-align: right;\">\n",
       "      <th></th>\n",
       "      <th>drug_1</th>\n",
       "      <th>drug_2</th>\n",
       "    </tr>\n",
       "  </thead>\n",
       "  <tbody>\n",
       "    <tr>\n",
       "      <th>0</th>\n",
       "      <td>DB06285</td>\n",
       "      <td>DB00630</td>\n",
       "    </tr>\n",
       "    <tr>\n",
       "      <th>1</th>\n",
       "      <td>DB01104</td>\n",
       "      <td>DB00704</td>\n",
       "    </tr>\n",
       "    <tr>\n",
       "      <th>2</th>\n",
       "      <td>DB00396</td>\n",
       "      <td>DB00783</td>\n",
       "    </tr>\n",
       "    <tr>\n",
       "      <th>3</th>\n",
       "      <td>DB00531</td>\n",
       "      <td>DB00091</td>\n",
       "    </tr>\n",
       "    <tr>\n",
       "      <th>4</th>\n",
       "      <td>DB00531</td>\n",
       "      <td>DB01073</td>\n",
       "    </tr>\n",
       "  </tbody>\n",
       "</table>\n",
       "</div>"
      ],
      "text/plain": [
       "    drug_1   drug_2\n",
       "0  DB06285  DB00630\n",
       "1  DB01104  DB00704\n",
       "2  DB00396  DB00783\n",
       "3  DB00531  DB00091\n",
       "4  DB00531  DB01073"
      ]
     },
     "execution_count": 4,
     "metadata": {},
     "output_type": "execute_result"
    }
   ],
   "source": [
    "dc.head()"
   ]
  },
  {
   "cell_type": "code",
   "execution_count": 6,
   "metadata": {},
   "outputs": [
    {
     "name": "stdout",
     "output_type": "stream",
     "text": [
      "4344\n",
      "16157\n"
     ]
    }
   ],
   "source": [
    "dc_pairs = []\n",
    "for i in range(len(dc)):\n",
    "    dc_pairs.append((dc.iloc[i, 0], dc.iloc[i, 1]))\n",
    "print(len(dc_pairs))\n",
    "\n",
    "ts_pairs = []\n",
    "for i in range(len(ts)):\n",
    "    ts_pairs.append((ts.iloc[i, 0], ts.iloc[i, 1]))\n",
    "print(len(ts_pairs))"
   ]
  },
  {
   "cell_type": "code",
   "execution_count": 7,
   "metadata": {},
   "outputs": [
    {
     "name": "stdout",
     "output_type": "stream",
     "text": [
      "43440\n"
     ]
    }
   ],
   "source": [
    "rand_pairs = []\n",
    "count = 0\n",
    "while count < len(dc_pairs) * 10:\n",
    "    drug1 = random.choice(list(drug_id2name.keys()))\n",
    "    drug2 = random.choice(list(drug_id2name.keys()))\n",
    "    if drug1 == drug2:\n",
    "        continue\n",
    "    if ((drug1, drug2) in dc_pairs) or ((drug2, drug1) in dc_pairs):\n",
    "        continue\n",
    "    if ((drug1, drug2) in rand_pairs) or ((drug2, drug1) in rand_pairs):\n",
    "        continue\n",
    "    rand_pairs.append((drug1, drug2))\n",
    "    count += 1\n",
    "\n",
    "print(len(rand_pairs))"
   ]
  },
  {
   "cell_type": "markdown",
   "metadata": {},
   "source": [
    "## 1:1 ratio"
   ]
  },
  {
   "cell_type": "code",
   "execution_count": 7,
   "metadata": {},
   "outputs": [],
   "source": [
    "for i in range(10):\n",
    "    fname = f'data/splits_gcn/DC_neg(TWOSIDES_1)_split{i}.pkl'\n",
    "    split_dict = {\n",
    "        'pairs': dc_pairs+random.sample(ts_pairs, len(dc_pairs)),\n",
    "        'labels': [1]*len(dc_pairs)+[0]*len(dc_pairs)\n",
    "    }\n",
    "    with open(fname, 'wb') as f:\n",
    "        pickle.dump(split_dict, f)"
   ]
  },
  {
   "cell_type": "code",
   "execution_count": 8,
   "metadata": {},
   "outputs": [],
   "source": [
    "for i in range(10):\n",
    "    fname = f'data/splits_gcn/DC_neg(random_1)_split{i}.pkl'\n",
    "    split_dict = {\n",
    "        'pairs': dc_pairs + rand_pairs[i*len(dc_pairs):(i+1)*len(dc_pairs)],\n",
    "        'labels': [1]*len(dc_pairs)+[0]*len(dc_pairs)\n",
    "    }\n",
    "    with open(fname, 'wb') as f:\n",
    "        pickle.dump(split_dict, f)"
   ]
  },
  {
   "cell_type": "markdown",
   "metadata": {},
   "source": [
    "## 1:2 ratio"
   ]
  },
  {
   "cell_type": "code",
   "execution_count": 8,
   "metadata": {},
   "outputs": [],
   "source": [
    "for i in range(10):\n",
    "    fname = f'data/splits_gcn/DC_neg(TWOSIDES_2)_split{i}.pkl'\n",
    "    split_dict = {\n",
    "        'pairs': dc_pairs+random.sample(ts_pairs, len(dc_pairs)*2),\n",
    "        'labels': [1]*len(dc_pairs)+[0]*(len(dc_pairs)*2)\n",
    "    }\n",
    "    with open(fname, 'wb') as f:\n",
    "        pickle.dump(split_dict, f)\n",
    "\n",
    "for i in range(10):\n",
    "    fname = f'data/splits_gcn/DC_neg(random_2)_split{i}.pkl'\n",
    "    split_dict = {\n",
    "        'pairs': dc_pairs + random.sample(rand_pairs, len(dc_pairs)*2),\n",
    "        'labels': [1]*len(dc_pairs)+[0]*(len(dc_pairs)*2)\n",
    "    }\n",
    "    with open(fname, 'wb') as f:\n",
    "        pickle.dump(split_dict, f)"
   ]
  },
  {
   "cell_type": "markdown",
   "metadata": {},
   "source": [
    "## 1:3 ratio"
   ]
  },
  {
   "cell_type": "code",
   "execution_count": 9,
   "metadata": {},
   "outputs": [],
   "source": [
    "for i in range(10):\n",
    "    fname = f'data/splits_gcn/DC_neg(TWOSIDES_3)_split{i}.pkl'\n",
    "    split_dict = {\n",
    "        'pairs': dc_pairs+random.sample(ts_pairs, len(dc_pairs)*3),\n",
    "        'labels': [1]*len(dc_pairs)+[0]*(len(dc_pairs)*3)\n",
    "    }\n",
    "    with open(fname, 'wb') as f:\n",
    "        pickle.dump(split_dict, f)\n",
    "\n",
    "for i in range(10):\n",
    "    fname = f'data/splits_gcn/DC_neg(random_3)_split{i}.pkl'\n",
    "    split_dict = {\n",
    "        'pairs': dc_pairs + random.sample(rand_pairs, len(dc_pairs)*3),\n",
    "        'labels': [1]*len(dc_pairs)+[0]*(len(dc_pairs)*3)\n",
    "    }\n",
    "    with open(fname, 'wb') as f:\n",
    "        pickle.dump(split_dict, f)"
   ]
  },
  {
   "cell_type": "code",
   "execution_count": null,
   "metadata": {},
   "outputs": [],
   "source": []
  }
 ],
 "metadata": {
  "kernelspec": {
   "display_name": "Python 3",
   "language": "python",
   "name": "python3"
  },
  "language_info": {
   "codemirror_mode": {
    "name": "ipython",
    "version": 3
   },
   "file_extension": ".py",
   "mimetype": "text/x-python",
   "name": "python",
   "nbconvert_exporter": "python",
   "pygments_lexer": "ipython3",
   "version": "3.10.9"
  }
 },
 "nbformat": 4,
 "nbformat_minor": 4
}
