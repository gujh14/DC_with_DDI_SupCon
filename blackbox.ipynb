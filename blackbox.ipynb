{
 "cells": [
  {
   "cell_type": "code",
   "execution_count": 1,
   "metadata": {},
   "outputs": [
    {
     "name": "stderr",
     "output_type": "stream",
     "text": [
      "/data/project/gujh/miniconda3/envs/dcpred/lib/python3.10/site-packages/tqdm/auto.py:22: TqdmWarning: IProgress not found. Please update jupyter and ipywidgets. See https://ipywidgets.readthedocs.io/en/stable/user_install.html\n",
      "  from .autonotebook import tqdm as notebook_tqdm\n"
     ]
    }
   ],
   "source": [
    "import torch\n",
    "import numpy as np\n",
    "\n",
    "import torch.nn as nn\n",
    "from torch.utils.data import Dataset, DataLoader, ConcatDataset\n",
    "import torch.nn.functional as F\n",
    "\n",
    "from model import CombNetRW\n",
    "from dataset import CombinationDatasetRW\n",
    "from MSI.load_msi_data import LoadData\n",
    "\n",
    "from train_rw import EarlyStopping, train_contrastive, train_ce, evaluate, seed_everything\n",
    "\n",
    "from sklearn.metrics import accuracy_score, recall_score, precision_score, f1_score, roc_auc_score, average_precision_score\n",
    "\n",
    "import seaborn as sns\n",
    "import pandas as pd\n",
    "import matplotlib.pyplot as plt\n",
    "import argparse\n",
    "import os\n",
    "import pickle"
   ]
  },
  {
   "cell_type": "code",
   "execution_count": 2,
   "metadata": {},
   "outputs": [],
   "source": [
    "seed_everything(42)"
   ]
  },
  {
   "cell_type": "code",
   "execution_count": 3,
   "metadata": {},
   "outputs": [],
   "source": [
    "dataloader = LoadData()\n",
    "\n",
    "# get_dict\n",
    "drug_id2name, drug_name2id = dataloader.get_dict(type='drug')\n",
    "ptn_id2name, ptn_name2id = dataloader.get_dict(type='protein')\n",
    "ind_id2name, ind_name2id = dataloader.get_dict(type='indication')"
   ]
  },
  {
   "cell_type": "code",
   "execution_count": 4,
   "metadata": {},
   "outputs": [],
   "source": [
    "# load drug pairs\n",
    "dc_df = pd.read_csv('data/labels/DC_combined_msi.tsv', sep='\\t') # drug combination\n",
    "ddi_df = pd.read_csv('data/labels/TWOSIDES_msi.tsv', sep='\\t') # drug drug interaction\n",
    "\n",
    "db_df = pd.read_csv('database/drugbank_all_drug_links.csv')\n",
    "db_id2name = dict(zip(db_df['DrugBank ID'], db_df['Name']))\n",
    "\n",
    "# randomly sample 400 drug pairs for test set\n",
    "case_dc_df = dc_df.sample(400, random_state=42)\n",
    "case_ddi_df = ddi_df.sample(400, random_state=42)\n",
    "\n",
    "# case study drug pairs\n",
    "dc_more = pd.DataFrame([['DB01076', 'DB01039'], # atorvastatin & fenofibrate\n",
    "                        ['DB01095', 'DB01039'], # fluvastatin & fenofibrate\n",
    "                        ['DB01098', 'DB01039'], # rosuvastatin & fenofibrate\n",
    "                        ['DB01126', 'DB00706'], # dutasteride & tamsulosin\n",
    "                        ['DB00654', 'DB00373'], # lantanoprost & timolol\n",
    "                        ['DB00235', 'DB00187'], # milrinone & esmolol\n",
    "                        ], columns=['drug_1', 'drug_2'])\n",
    "\n",
    "ddi_more = pd.DataFrame([['DB00252', 'DB00904'], # phenytoin & ondansetron\n",
    "                         ['DB01026', 'DB00641'], # ketoconazole & simvastatin\n",
    "                         ['DB00482', 'DB00575'], # celecoxib & clonidine\n",
    "                         ['DB00745', 'DB00476'], # modafinil & duloxetine\n",
    "                         ['DB00448', 'DB01033'], # lansoprazole & mercaptopurine\n",
    "                         ['DB00277', 'DB00983'], # theophylline & formoterol\n",
    "                         ], columns=['drug_1', 'drug_2'])\n",
    "\n",
    "case_dc_df = pd.concat([case_dc_df, dc_more], axis=0)\n",
    "case_ddi_df = pd.concat([case_ddi_df, ddi_more], axis=0)\n",
    "case_dc_df.reset_index(drop=True, inplace=True)\n",
    "case_ddi_df.reset_index(drop=True, inplace=True)\n",
    "\n",
    "# add drug names\n",
    "case_dc_df['drug1_name'] = case_dc_df['drug_1'].map(db_id2name)\n",
    "case_dc_df['drug2_name'] = case_dc_df['drug_2'].map(db_id2name)\n",
    "case_ddi_df['drug1_name'] = case_ddi_df['drug_1'].map(db_id2name)\n",
    "case_ddi_df['drug2_name'] = case_ddi_df['drug_2'].map(db_id2name)\n",
    "\n",
    "# get drug pairs\n",
    "case_dc_pair = [set([drug1, drug2]) for drug1, drug2 in zip(case_dc_df['drug_1'], case_dc_df['drug_2'])]\n",
    "case_ddi_pair = [set([drug1, drug2]) for drug1, drug2 in zip(case_ddi_df['drug_1'], case_ddi_df['drug_2'])]"
   ]
  },
  {
   "cell_type": "code",
   "execution_count": 5,
   "metadata": {},
   "outputs": [],
   "source": [
    "def get_dc_score(kgfeat, neg_dataset, exclude_list, seed):\n",
    "    '''\n",
    "    args:\n",
    "        kgfeat: [None, 'node2vec', 'edge2vec', 'res2vec_homo', 'res2vec_hetero', 'DREAMwalk']\n",
    "        neg_dataset: ['random', 'TWOSIDES']\n",
    "        exclude_list: list of drug pairs to exclude (case study drug pairs)\n",
    "\n",
    "    '''\n",
    "    dataset = CombinationDatasetRW(database='DC_combined', kgfeat=kgfeat, neg_ratio=1, neg_dataset=neg_dataset, seed=seed, exclude_list=exclude_list)\n",
    "    train_dataset, valid_dataset, test_dataset = dataset['train'], dataset['valid'], dataset['test']\n",
    "    valid_dataset = ConcatDataset([valid_dataset, test_dataset])\n",
    "\n",
    "    train_loader = DataLoader(train_dataset, batch_size=128, shuffle=True)\n",
    "    valid_loader = DataLoader(valid_dataset, batch_size=128, shuffle=False)\n",
    "\n",
    "    input_dim = train_dataset[0][0].shape[0] // 2\n",
    "    hidden_dim = input_dim\n",
    "    output_dim = 1\n",
    "\n",
    "    epochs = 100\n",
    "    ce_lr = 1e-3\n",
    "    contra_lr = 1e-1\n",
    "    weight_decay = 1e-5\n",
    "\n",
    "    ckpt_name = f'ckpt/blackbox_DREAMwalk_prod_fc_{seed}'\n",
    "\n",
    "    device = torch.device('cuda' if torch.cuda.is_available() else 'cpu')\n",
    "\n",
    "    # SCL pretraining stage\n",
    "    contra_model = CombNetRW(input_dim, hidden_dim, output_dim, comb_type='prod_fc').to(device)\n",
    "    contra_optimizer = torch.optim.Adam(contra_model.parameters(), lr=contra_lr, weight_decay=weight_decay)\n",
    "    contra_early_stopping = EarlyStopping(patience=20, verbose=True, path=f\"{ckpt_name}_contra.pt\")\n",
    "\n",
    "    for epoch in range(epochs):\n",
    "        train_loss = train_contrastive(contra_model, device, train_loader, contra_optimizer)\n",
    "        print(f'Contra Epoch {epoch+1:03d}: | Train Loss: {train_loss:.4f}')\n",
    "        contra_early_stopping(train_loss, contra_model)\n",
    "        if contra_early_stopping.early_stop:\n",
    "            print(\"Early stopping\")\n",
    "            break\n",
    "\n",
    "    del contra_model\n",
    "    del contra_optimizer\n",
    "    del contra_early_stopping\n",
    "    torch.cuda.empty_cache()\n",
    "\n",
    "    # CE finetuning stage\n",
    "    model = CombNetRW(input_dim, hidden_dim, output_dim, comb_type='prod_fc').to(device)\n",
    "    optimizer = torch.optim.Adam(model.parameters(), lr=ce_lr, weight_decay=weight_decay)\n",
    "\n",
    "    model.load_state_dict(torch.load(f\"{ckpt_name}_contra.pt\")) # load SCL pretrained weight\n",
    "\n",
    "    criterion = nn.BCEWithLogitsLoss()\n",
    "    early_stopping = EarlyStopping(patience=20, verbose=True, path=f\"{ckpt_name}.pt\")\n",
    "    metric_list = [accuracy_score, roc_auc_score, f1_score, average_precision_score, precision_score, recall_score]\n",
    "\n",
    "    for epoch in range(epochs):\n",
    "        train_loss, train_scores = train_ce(model, device, train_loader, criterion, optimizer, metric_list)\n",
    "        valid_loss, valid_scores = evaluate(model, device, valid_loader, criterion, metric_list)\n",
    "        print(f'Epoch {epoch+1:03d}: | Train Loss: {train_loss:.4f} | Train Acc: {train_scores[0]*100:.2f}% | Train Precision: {train_scores[4]:.4f} | Train Recall: {train_scores[5]:.4f} || Valid Loss: {valid_loss:.4f} | Valid Acc: {valid_scores[0]*100:.2f}% | Valid Precision: {valid_scores[4]:.4f} | Valid Recall: {valid_scores[5]:.4f}')\n",
    "        early_stopping(valid_loss, model)\n",
    "        if early_stopping.early_stop:\n",
    "            print(\"Early stopping\")\n",
    "            break\n",
    "    \n",
    "    with open(f'data/embedding/embeddings_{kgfeat}_msi_seed0.pkl', 'rb') as f:\n",
    "        kgfeat_dict = pickle.load(f)\n",
    "    combs = []\n",
    "    for pair in exclude_list:\n",
    "        combs.append(torch.cat([torch.tensor(kgfeat_dict[drug], dtype=torch.float) for drug in pair], dim=0).unsqueeze(0))\n",
    "    combs = torch.cat(combs, dim=0).to(device)\n",
    "    print(f\"Pairs shape: {combs.shape}\")\n",
    "\n",
    "    model.load_state_dict(torch.load(f\"{ckpt_name}.pt\"))\n",
    "    model.eval()\n",
    "    with torch.no_grad():\n",
    "        scores = torch.sigmoid(model(combs)).cpu().numpy()\n",
    "    return scores"
   ]
  },
  {
   "cell_type": "code",
   "execution_count": 6,
   "metadata": {},
   "outputs": [],
   "source": [
    "seed_lst = [42]"
   ]
  },
  {
   "cell_type": "code",
   "execution_count": 7,
   "metadata": {},
   "outputs": [
    {
     "name": "stdout",
     "output_type": "stream",
     "text": [
      "data/processed/casestudy_DC_combined_kgfeat(DREAMwalk)_chemfeat(None)_neg(TWOSIDES_1)_seed42.pt already exists in processed/ directory.\n",
      "Loading dataset...data/processed/casestudy_DC_combined_kgfeat(DREAMwalk)_chemfeat(None)_neg(TWOSIDES_1)_seed42.pt\n",
      "Dictionary of {train, valid, test, whole} dataset is loaded.\n"
     ]
    },
    {
     "name": "stdout",
     "output_type": "stream",
     "text": [
      "Contra Epoch 001: | Train Loss: 0.5122\n",
      "Validation loss decreased (inf --> 0.512247).  Saving model ...\n",
      "Contra Epoch 002: | Train Loss: 0.4722\n",
      "Validation loss decreased (0.512247 --> 0.472213).  Saving model ...\n",
      "Contra Epoch 003: | Train Loss: 0.4602\n",
      "Validation loss decreased (0.472213 --> 0.460177).  Saving model ...\n",
      "Contra Epoch 004: | Train Loss: 0.4539\n",
      "Validation loss decreased (0.460177 --> 0.453910).  Saving model ...\n",
      "Contra Epoch 005: | Train Loss: 0.4451\n",
      "Validation loss decreased (0.453910 --> 0.445118).  Saving model ...\n",
      "Contra Epoch 006: | Train Loss: 0.4451\n",
      "Validation loss decreased (0.445118 --> 0.445095).  Saving model ...\n",
      "Contra Epoch 007: | Train Loss: 0.4466\n",
      "EarlyStopping counter: 1 out of 20\n",
      "Contra Epoch 008: | Train Loss: 0.4382\n",
      "Validation loss decreased (0.445095 --> 0.438164).  Saving model ...\n",
      "Contra Epoch 009: | Train Loss: 0.4365\n",
      "Validation loss decreased (0.438164 --> 0.436510).  Saving model ...\n",
      "Contra Epoch 010: | Train Loss: 0.4254\n",
      "Validation loss decreased (0.436510 --> 0.425400).  Saving model ...\n",
      "Contra Epoch 011: | Train Loss: 0.4337\n",
      "EarlyStopping counter: 1 out of 20\n",
      "Contra Epoch 012: | Train Loss: 0.4315\n",
      "EarlyStopping counter: 2 out of 20\n",
      "Contra Epoch 013: | Train Loss: 0.4354\n",
      "EarlyStopping counter: 3 out of 20\n",
      "Contra Epoch 014: | Train Loss: 0.4285\n",
      "EarlyStopping counter: 4 out of 20\n",
      "Contra Epoch 015: | Train Loss: 0.4256\n",
      "EarlyStopping counter: 5 out of 20\n",
      "Contra Epoch 016: | Train Loss: 0.4265\n",
      "EarlyStopping counter: 6 out of 20\n",
      "Contra Epoch 017: | Train Loss: 0.4224\n",
      "Validation loss decreased (0.425400 --> 0.422371).  Saving model ...\n",
      "Contra Epoch 018: | Train Loss: 0.4298\n",
      "EarlyStopping counter: 1 out of 20\n",
      "Contra Epoch 019: | Train Loss: 0.4244\n",
      "EarlyStopping counter: 2 out of 20\n",
      "Contra Epoch 020: | Train Loss: 0.4231\n",
      "EarlyStopping counter: 3 out of 20\n",
      "Contra Epoch 021: | Train Loss: 0.4315\n",
      "EarlyStopping counter: 4 out of 20\n",
      "Contra Epoch 022: | Train Loss: 0.4279\n",
      "EarlyStopping counter: 5 out of 20\n",
      "Contra Epoch 023: | Train Loss: 0.4244\n",
      "EarlyStopping counter: 6 out of 20\n",
      "Contra Epoch 024: | Train Loss: 0.4232\n",
      "EarlyStopping counter: 7 out of 20\n",
      "Contra Epoch 025: | Train Loss: 0.4273\n",
      "EarlyStopping counter: 8 out of 20\n",
      "Contra Epoch 026: | Train Loss: 0.4240\n",
      "EarlyStopping counter: 9 out of 20\n",
      "Contra Epoch 027: | Train Loss: 0.4288\n",
      "EarlyStopping counter: 10 out of 20\n",
      "Contra Epoch 028: | Train Loss: 0.4269\n",
      "EarlyStopping counter: 11 out of 20\n",
      "Contra Epoch 029: | Train Loss: 0.4258\n",
      "EarlyStopping counter: 12 out of 20\n",
      "Contra Epoch 030: | Train Loss: 0.4300\n",
      "EarlyStopping counter: 13 out of 20\n",
      "Contra Epoch 031: | Train Loss: 0.4271\n",
      "EarlyStopping counter: 14 out of 20\n",
      "Contra Epoch 032: | Train Loss: 0.4218\n",
      "Validation loss decreased (0.422371 --> 0.421848).  Saving model ...\n",
      "Contra Epoch 033: | Train Loss: 0.4230\n",
      "EarlyStopping counter: 1 out of 20\n",
      "Contra Epoch 034: | Train Loss: 0.4210\n",
      "Validation loss decreased (0.421848 --> 0.420990).  Saving model ...\n",
      "Contra Epoch 035: | Train Loss: 0.4194\n",
      "Validation loss decreased (0.420990 --> 0.419433).  Saving model ...\n",
      "Contra Epoch 036: | Train Loss: 0.4317\n",
      "EarlyStopping counter: 1 out of 20\n",
      "Contra Epoch 037: | Train Loss: 0.4222\n",
      "EarlyStopping counter: 2 out of 20\n",
      "Contra Epoch 038: | Train Loss: 0.4260\n",
      "EarlyStopping counter: 3 out of 20\n",
      "Contra Epoch 039: | Train Loss: 0.4300\n",
      "EarlyStopping counter: 4 out of 20\n",
      "Contra Epoch 040: | Train Loss: 0.4299\n",
      "EarlyStopping counter: 5 out of 20\n",
      "Contra Epoch 041: | Train Loss: 0.4275\n",
      "EarlyStopping counter: 6 out of 20\n",
      "Contra Epoch 042: | Train Loss: 0.4269\n",
      "EarlyStopping counter: 7 out of 20\n",
      "Contra Epoch 043: | Train Loss: 0.4254\n",
      "EarlyStopping counter: 8 out of 20\n",
      "Contra Epoch 044: | Train Loss: 0.4296\n",
      "EarlyStopping counter: 9 out of 20\n",
      "Contra Epoch 045: | Train Loss: 0.4248\n",
      "EarlyStopping counter: 10 out of 20\n",
      "Contra Epoch 046: | Train Loss: 0.4202\n",
      "EarlyStopping counter: 11 out of 20\n",
      "Contra Epoch 047: | Train Loss: 0.4253\n",
      "EarlyStopping counter: 12 out of 20\n",
      "Contra Epoch 048: | Train Loss: 0.4270\n",
      "EarlyStopping counter: 13 out of 20\n",
      "Contra Epoch 049: | Train Loss: 0.4298\n",
      "EarlyStopping counter: 14 out of 20\n",
      "Contra Epoch 050: | Train Loss: 0.4279\n",
      "EarlyStopping counter: 15 out of 20\n",
      "Contra Epoch 051: | Train Loss: 0.4257\n",
      "EarlyStopping counter: 16 out of 20\n",
      "Contra Epoch 052: | Train Loss: 0.4285\n",
      "EarlyStopping counter: 17 out of 20\n",
      "Contra Epoch 053: | Train Loss: 0.4353\n",
      "EarlyStopping counter: 18 out of 20\n",
      "Contra Epoch 054: | Train Loss: 0.4268\n",
      "EarlyStopping counter: 19 out of 20\n",
      "Contra Epoch 055: | Train Loss: 0.4307\n",
      "EarlyStopping counter: 20 out of 20\n",
      "Early stopping\n",
      "Epoch 001: | Train Loss: 0.5427 | Train Acc: 78.50% | Train Precision: 0.7764 | Train Recall: 0.7703 || Valid Loss: 0.5307 | Valid Acc: 77.68% | Valid Precision: 0.7897 | Valid Recall: 0.7214\n",
      "Validation loss decreased (inf --> 0.530709).  Saving model ...\n",
      "Epoch 002: | Train Loss: 0.4688 | Train Acc: 81.04% | Train Precision: 0.8361 | Train Recall: 0.7484 || Valid Loss: 0.4819 | Valid Acc: 79.25% | Valid Precision: 0.8269 | Valid Recall: 0.7112\n",
      "Validation loss decreased (0.530709 --> 0.481893).  Saving model ...\n",
      "Epoch 003: | Train Loss: 0.4069 | Train Acc: 83.01% | Train Precision: 0.8694 | Train Recall: 0.7570 || Valid Loss: 0.3996 | Valid Acc: 82.45% | Valid Precision: 0.8960 | Valid Recall: 0.7125\n",
      "Validation loss decreased (0.481893 --> 0.399554).  Saving model ...\n",
      "Epoch 004: | Train Loss: 0.3419 | Train Acc: 85.80% | Train Precision: 0.8893 | Train Recall: 0.8016 || Valid Loss: 0.3453 | Valid Acc: 85.59% | Valid Precision: 0.8762 | Valid Recall: 0.8104\n",
      "Validation loss decreased (0.399554 --> 0.345261).  Saving model ...\n",
      "Epoch 005: | Train Loss: 0.2987 | Train Acc: 87.76% | Train Precision: 0.8957 | Train Recall: 0.8409 || Valid Loss: 0.3043 | Valid Acc: 87.64% | Valid Precision: 0.8827 | Valid Recall: 0.8524\n",
      "Validation loss decreased (0.345261 --> 0.304302).  Saving model ...\n",
      "Epoch 006: | Train Loss: 0.2593 | Train Acc: 89.53% | Train Precision: 0.9176 | Train Recall: 0.8571 || Valid Loss: 0.2899 | Valid Acc: 88.42% | Valid Precision: 0.9003 | Valid Recall: 0.8499\n",
      "Validation loss decreased (0.304302 --> 0.289874).  Saving model ...\n",
      "Epoch 007: | Train Loss: 0.2393 | Train Acc: 90.54% | Train Precision: 0.9183 | Train Recall: 0.8796 || Valid Loss: 0.2550 | Valid Acc: 89.51% | Valid Precision: 0.9286 | Valid Recall: 0.8435\n",
      "Validation loss decreased (0.289874 --> 0.254994).  Saving model ...\n",
      "Epoch 008: | Train Loss: 0.2181 | Train Acc: 91.57% | Train Precision: 0.9382 | Train Recall: 0.8809 || Valid Loss: 0.2465 | Valid Acc: 90.35% | Valid Precision: 0.9207 | Valid Recall: 0.8715\n",
      "Validation loss decreased (0.254994 --> 0.246466).  Saving model ...\n",
      "Epoch 009: | Train Loss: 0.2112 | Train Acc: 91.61% | Train Precision: 0.9296 | Train Recall: 0.8913 || Valid Loss: 0.2432 | Valid Acc: 90.47% | Valid Precision: 0.9067 | Valid Recall: 0.8906\n",
      "Validation loss decreased (0.246466 --> 0.243242).  Saving model ...\n",
      "Epoch 010: | Train Loss: 0.2007 | Train Acc: 92.15% | Train Precision: 0.9373 | Train Recall: 0.8951 || Valid Loss: 0.2541 | Valid Acc: 88.90% | Valid Precision: 0.8583 | Valid Recall: 0.9173\n",
      "EarlyStopping counter: 1 out of 20\n",
      "Epoch 011: | Train Loss: 0.1965 | Train Acc: 92.53% | Train Precision: 0.9484 | Train Recall: 0.8916 || Valid Loss: 0.2464 | Valid Acc: 89.87% | Valid Precision: 0.8759 | Valid Recall: 0.9160\n",
      "EarlyStopping counter: 2 out of 20\n",
      "Epoch 012: | Train Loss: 0.1836 | Train Acc: 92.79% | Train Precision: 0.9463 | Train Recall: 0.8996 || Valid Loss: 0.2230 | Valid Acc: 91.74% | Valid Precision: 0.9198 | Valid Recall: 0.9046\n",
      "Validation loss decreased (0.243242 --> 0.223017).  Saving model ...\n",
      "Epoch 013: | Train Loss: 0.1694 | Train Acc: 93.54% | Train Precision: 0.9523 | Train Recall: 0.9100 || Valid Loss: 0.2218 | Valid Acc: 91.25% | Valid Precision: 0.9201 | Valid Recall: 0.8931\n",
      "Validation loss decreased (0.223017 --> 0.221800).  Saving model ...\n",
      "Epoch 014: | Train Loss: 0.1794 | Train Acc: 93.11% | Train Precision: 0.9521 | Train Recall: 0.9005 || Valid Loss: 0.1966 | Valid Acc: 92.46% | Valid Precision: 0.9389 | Valid Recall: 0.8995\n",
      "Validation loss decreased (0.221800 --> 0.196640).  Saving model ...\n",
      "Epoch 015: | Train Loss: 0.1743 | Train Acc: 93.48% | Train Precision: 0.9549 | Train Recall: 0.9059 || Valid Loss: 0.2217 | Valid Acc: 91.19% | Valid Precision: 0.9313 | Valid Recall: 0.8791\n",
      "EarlyStopping counter: 1 out of 20\n",
      "Epoch 016: | Train Loss: 0.1573 | Train Acc: 93.89% | Train Precision: 0.9568 | Train Recall: 0.9129 || Valid Loss: 0.2200 | Valid Acc: 91.50% | Valid Precision: 0.9205 | Valid Recall: 0.8982\n",
      "EarlyStopping counter: 2 out of 20\n",
      "Epoch 017: | Train Loss: 0.1608 | Train Acc: 93.66% | Train Precision: 0.9515 | Train Recall: 0.9135 || Valid Loss: 0.2146 | Valid Acc: 91.62% | Valid Precision: 0.9285 | Valid Recall: 0.8919\n",
      "EarlyStopping counter: 3 out of 20\n",
      "Epoch 018: | Train Loss: 0.1613 | Train Acc: 93.71% | Train Precision: 0.9548 | Train Recall: 0.9110 || Valid Loss: 0.2173 | Valid Acc: 91.80% | Valid Precision: 0.9288 | Valid Recall: 0.8957\n",
      "EarlyStopping counter: 4 out of 20\n",
      "Epoch 019: | Train Loss: 0.1577 | Train Acc: 93.87% | Train Precision: 0.9529 | Train Recall: 0.9167 || Valid Loss: 0.1998 | Valid Acc: 92.88% | Valid Precision: 0.9639 | Valid Recall: 0.8830\n",
      "EarlyStopping counter: 5 out of 20\n",
      "Epoch 020: | Train Loss: 0.1514 | Train Acc: 93.96% | Train Precision: 0.9599 | Train Recall: 0.9113 || Valid Loss: 0.2109 | Valid Acc: 92.22% | Valid Precision: 0.9272 | Valid Recall: 0.9071\n",
      "EarlyStopping counter: 6 out of 20\n",
      "Epoch 021: | Train Loss: 0.1415 | Train Acc: 94.52% | Train Precision: 0.9574 | Train Recall: 0.9262 || Valid Loss: 0.2072 | Valid Acc: 92.34% | Valid Precision: 0.9263 | Valid Recall: 0.9109\n",
      "EarlyStopping counter: 7 out of 20\n",
      "Epoch 022: | Train Loss: 0.1457 | Train Acc: 94.45% | Train Precision: 0.9589 | Train Recall: 0.9230 || Valid Loss: 0.2169 | Valid Acc: 92.70% | Valid Precision: 0.9463 | Valid Recall: 0.8969\n",
      "EarlyStopping counter: 8 out of 20\n",
      "Epoch 023: | Train Loss: 0.1472 | Train Acc: 94.28% | Train Precision: 0.9593 | Train Recall: 0.9189 || Valid Loss: 0.2122 | Valid Acc: 92.34% | Valid Precision: 0.9230 | Valid Recall: 0.9148\n",
      "EarlyStopping counter: 9 out of 20\n",
      "Epoch 024: | Train Loss: 0.1398 | Train Acc: 94.72% | Train Precision: 0.9649 | Train Recall: 0.9227 || Valid Loss: 0.2109 | Valid Acc: 92.64% | Valid Precision: 0.9439 | Valid Recall: 0.8982\n",
      "EarlyStopping counter: 10 out of 20\n",
      "Epoch 025: | Train Loss: 0.1334 | Train Acc: 94.95% | Train Precision: 0.9617 | Train Recall: 0.9309 || Valid Loss: 0.2049 | Valid Acc: 92.28% | Valid Precision: 0.9422 | Valid Recall: 0.8919\n",
      "EarlyStopping counter: 11 out of 20\n",
      "Epoch 026: | Train Loss: 0.1300 | Train Acc: 95.05% | Train Precision: 0.9618 | Train Recall: 0.9331 || Valid Loss: 0.2115 | Valid Acc: 92.10% | Valid Precision: 0.9432 | Valid Recall: 0.8868\n",
      "EarlyStopping counter: 12 out of 20\n",
      "Epoch 027: | Train Loss: 0.1247 | Train Acc: 95.25% | Train Precision: 0.9711 | Train Recall: 0.9278 || Valid Loss: 0.2136 | Valid Acc: 92.16% | Valid Precision: 0.9304 | Valid Recall: 0.9020\n",
      "EarlyStopping counter: 13 out of 20\n",
      "Epoch 028: | Train Loss: 0.1233 | Train Acc: 95.01% | Train Precision: 0.9642 | Train Recall: 0.9297 || Valid Loss: 0.2106 | Valid Acc: 92.22% | Valid Precision: 0.9239 | Valid Recall: 0.9109\n",
      "EarlyStopping counter: 14 out of 20\n",
      "Epoch 029: | Train Loss: 0.1209 | Train Acc: 95.38% | Train Precision: 0.9678 | Train Recall: 0.9341 || Valid Loss: 0.2081 | Valid Acc: 92.58% | Valid Precision: 0.9598 | Valid Recall: 0.8804\n",
      "EarlyStopping counter: 15 out of 20\n",
      "Epoch 030: | Train Loss: 0.1239 | Train Acc: 95.07% | Train Precision: 0.9630 | Train Recall: 0.9322 || Valid Loss: 0.2167 | Valid Acc: 91.50% | Valid Precision: 0.9294 | Valid Recall: 0.8880\n",
      "EarlyStopping counter: 16 out of 20\n",
      "Epoch 031: | Train Loss: 0.1209 | Train Acc: 95.44% | Train Precision: 0.9639 | Train Recall: 0.9395 || Valid Loss: 0.1914 | Valid Acc: 93.00% | Valid Precision: 0.9479 | Valid Recall: 0.9020\n",
      "Validation loss decreased (0.196640 --> 0.191450).  Saving model ...\n",
      "Epoch 032: | Train Loss: 0.1224 | Train Acc: 95.20% | Train Precision: 0.9674 | Train Recall: 0.9306 || Valid Loss: 0.2083 | Valid Acc: 92.58% | Valid Precision: 0.9245 | Valid Recall: 0.9186\n",
      "EarlyStopping counter: 1 out of 20\n",
      "Epoch 033: | Train Loss: 0.1144 | Train Acc: 95.55% | Train Precision: 0.9695 | Train Recall: 0.9360 || Valid Loss: 0.2159 | Valid Acc: 92.82% | Valid Precision: 0.9489 | Valid Recall: 0.8969\n",
      "EarlyStopping counter: 2 out of 20\n",
      "Epoch 034: | Train Loss: 0.1159 | Train Acc: 95.28% | Train Precision: 0.9635 | Train Recall: 0.9363 || Valid Loss: 0.2168 | Valid Acc: 92.22% | Valid Precision: 0.9142 | Valid Recall: 0.9224\n",
      "EarlyStopping counter: 3 out of 20\n",
      "Epoch 035: | Train Loss: 0.1141 | Train Acc: 95.38% | Train Precision: 0.9681 | Train Recall: 0.9338 || Valid Loss: 0.2169 | Valid Acc: 92.82% | Valid Precision: 0.9394 | Valid Recall: 0.9071\n",
      "EarlyStopping counter: 4 out of 20\n",
      "Epoch 036: | Train Loss: 0.1065 | Train Acc: 95.68% | Train Precision: 0.9677 | Train Recall: 0.9407 || Valid Loss: 0.2202 | Valid Acc: 92.28% | Valid Precision: 0.9318 | Valid Recall: 0.9033\n",
      "EarlyStopping counter: 5 out of 20\n",
      "Epoch 037: | Train Loss: 0.1079 | Train Acc: 95.59% | Train Precision: 0.9674 | Train Recall: 0.9392 || Valid Loss: 0.2208 | Valid Acc: 92.88% | Valid Precision: 0.9406 | Valid Recall: 0.9071\n",
      "EarlyStopping counter: 6 out of 20\n",
      "Epoch 038: | Train Loss: 0.0967 | Train Acc: 96.32% | Train Precision: 0.9703 | Train Recall: 0.9518 || Valid Loss: 0.2294 | Valid Acc: 92.34% | Valid Precision: 0.9285 | Valid Recall: 0.9084\n",
      "EarlyStopping counter: 7 out of 20\n",
      "Epoch 039: | Train Loss: 0.1066 | Train Acc: 95.58% | Train Precision: 0.9628 | Train Recall: 0.9436 || Valid Loss: 0.2345 | Valid Acc: 91.86% | Valid Precision: 0.9323 | Valid Recall: 0.8931\n",
      "EarlyStopping counter: 8 out of 20\n",
      "Epoch 040: | Train Loss: 0.1058 | Train Acc: 95.55% | Train Precision: 0.9676 | Train Recall: 0.9379 || Valid Loss: 0.2256 | Valid Acc: 93.00% | Valid Precision: 0.9515 | Valid Recall: 0.8982\n",
      "EarlyStopping counter: 9 out of 20\n",
      "Epoch 041: | Train Loss: 0.0979 | Train Acc: 96.41% | Train Precision: 0.9722 | Train Recall: 0.9518 || Valid Loss: 0.2274 | Valid Acc: 92.16% | Valid Precision: 0.9216 | Valid Recall: 0.9122\n",
      "EarlyStopping counter: 10 out of 20\n",
      "Epoch 042: | Train Loss: 0.0926 | Train Acc: 96.26% | Train Precision: 0.9696 | Train Recall: 0.9512 || Valid Loss: 0.2319 | Valid Acc: 92.70% | Valid Precision: 0.9392 | Valid Recall: 0.9046\n",
      "EarlyStopping counter: 11 out of 20\n",
      "Epoch 043: | Train Loss: 0.0915 | Train Acc: 96.42% | Train Precision: 0.9694 | Train Recall: 0.9550 || Valid Loss: 0.2342 | Valid Acc: 91.31% | Valid Precision: 0.9105 | Valid Recall: 0.9059\n",
      "EarlyStopping counter: 12 out of 20\n",
      "Epoch 044: | Train Loss: 0.0928 | Train Acc: 96.18% | Train Precision: 0.9699 | Train Recall: 0.9493 || Valid Loss: 0.2336 | Valid Acc: 92.10% | Valid Precision: 0.9338 | Valid Recall: 0.8969\n",
      "EarlyStopping counter: 13 out of 20\n",
      "Epoch 045: | Train Loss: 0.0902 | Train Acc: 96.74% | Train Precision: 0.9763 | Train Recall: 0.9547 || Valid Loss: 0.2454 | Valid Acc: 91.74% | Valid Precision: 0.9176 | Valid Recall: 0.9071\n",
      "EarlyStopping counter: 14 out of 20\n",
      "Epoch 046: | Train Loss: 0.0884 | Train Acc: 96.39% | Train Precision: 0.9682 | Train Recall: 0.9556 || Valid Loss: 0.2383 | Valid Acc: 91.62% | Valid Precision: 0.9153 | Valid Recall: 0.9071\n",
      "EarlyStopping counter: 15 out of 20\n",
      "Epoch 047: | Train Loss: 0.0921 | Train Acc: 96.45% | Train Precision: 0.9692 | Train Recall: 0.9560 || Valid Loss: 0.2324 | Valid Acc: 91.98% | Valid Precision: 0.9170 | Valid Recall: 0.9135\n",
      "EarlyStopping counter: 16 out of 20\n",
      "Epoch 048: | Train Loss: 0.0842 | Train Acc: 96.67% | Train Precision: 0.9760 | Train Recall: 0.9534 || Valid Loss: 0.2366 | Valid Acc: 92.22% | Valid Precision: 0.9195 | Valid Recall: 0.9160\n",
      "EarlyStopping counter: 17 out of 20\n",
      "Epoch 049: | Train Loss: 0.0830 | Train Acc: 96.74% | Train Precision: 0.9763 | Train Recall: 0.9547 || Valid Loss: 0.2580 | Valid Acc: 92.22% | Valid Precision: 0.9185 | Valid Recall: 0.9173\n",
      "EarlyStopping counter: 18 out of 20\n",
      "Epoch 050: | Train Loss: 0.0815 | Train Acc: 96.70% | Train Precision: 0.9696 | Train Recall: 0.9607 || Valid Loss: 0.2368 | Valid Acc: 92.16% | Valid Precision: 0.9194 | Valid Recall: 0.9148\n",
      "EarlyStopping counter: 19 out of 20\n",
      "Epoch 051: | Train Loss: 0.0807 | Train Acc: 96.61% | Train Precision: 0.9726 | Train Recall: 0.9556 || Valid Loss: 0.2552 | Valid Acc: 91.44% | Valid Precision: 0.9045 | Valid Recall: 0.9160\n",
      "EarlyStopping counter: 20 out of 20\n",
      "Early stopping\n",
      "Pairs shape: torch.Size([406, 256])\n"
     ]
    }
   ],
   "source": [
    "for seed in seed_lst:\n",
    "    # random negative, dc case study\n",
    "    # rand_dc_score = get_dc_score(kgfeat='DREAMwalk', neg_dataset='random', exclude_list=case_dc_pair, seed=seed)\n",
    "    # random negative, ddi case study\n",
    "    # rand_ddi_score = get_dc_score(kgfeat='DREAMwalk', neg_dataset='random', exclude_list=case_ddi_pair, seed=seed)\n",
    "    # TWOSIDES negative, dc case study\n",
    "    twosides_dc_score = get_dc_score(kgfeat='DREAMwalk', neg_dataset='TWOSIDES', exclude_list=case_dc_pair, seed=seed)\n",
    "    # TWOSIDES negative, ddi case study\n",
    "    # twosides_ddi_score = get_dc_score(kgfeat='DREAMwalk', neg_dataset='TWOSIDES', exclude_list=case_ddi_pair, seed=seed)\n",
    "    \n",
    "    # case_dc_df[f'score (random{seed})'] = rand_dc_score\n",
    "    # case_ddi_df[f'score (random{seed})'] = rand_ddi_score\n",
    "    case_dc_df[f'score (TWOSIDES{seed})'] = twosides_dc_score\n",
    "    # case_ddi_df[f'score (TWOSIDES{seed})'] = twosides_ddi_score"
   ]
  },
  {
   "cell_type": "code",
   "execution_count": 8,
   "metadata": {},
   "outputs": [
    {
     "data": {
      "text/html": [
       "<div>\n",
       "<style scoped>\n",
       "    .dataframe tbody tr th:only-of-type {\n",
       "        vertical-align: middle;\n",
       "    }\n",
       "\n",
       "    .dataframe tbody tr th {\n",
       "        vertical-align: top;\n",
       "    }\n",
       "\n",
       "    .dataframe thead th {\n",
       "        text-align: right;\n",
       "    }\n",
       "</style>\n",
       "<table border=\"1\" class=\"dataframe\">\n",
       "  <thead>\n",
       "    <tr style=\"text-align: right;\">\n",
       "      <th></th>\n",
       "      <th>drug_1</th>\n",
       "      <th>drug_2</th>\n",
       "      <th>drug1_name</th>\n",
       "      <th>drug2_name</th>\n",
       "      <th>score (TWOSIDES42)</th>\n",
       "    </tr>\n",
       "  </thead>\n",
       "  <tbody>\n",
       "    <tr>\n",
       "      <th>396</th>\n",
       "      <td>DB01132</td>\n",
       "      <td>DB00912</td>\n",
       "      <td>Pioglitazone</td>\n",
       "      <td>Repaglinide</td>\n",
       "      <td>0.978839</td>\n",
       "    </tr>\n",
       "    <tr>\n",
       "      <th>397</th>\n",
       "      <td>DB00421</td>\n",
       "      <td>DB00381</td>\n",
       "      <td>Spironolactone</td>\n",
       "      <td>Amlodipine</td>\n",
       "      <td>0.986407</td>\n",
       "    </tr>\n",
       "    <tr>\n",
       "      <th>398</th>\n",
       "      <td>DB00302</td>\n",
       "      <td>DB09526</td>\n",
       "      <td>Tranexamic acid</td>\n",
       "      <td>Hydroquinone</td>\n",
       "      <td>0.999938</td>\n",
       "    </tr>\n",
       "    <tr>\n",
       "      <th>399</th>\n",
       "      <td>DB01248</td>\n",
       "      <td>DB01211</td>\n",
       "      <td>Docetaxel</td>\n",
       "      <td>Clarithromycin</td>\n",
       "      <td>0.999068</td>\n",
       "    </tr>\n",
       "    <tr>\n",
       "      <th>400</th>\n",
       "      <td>DB01076</td>\n",
       "      <td>DB01039</td>\n",
       "      <td>Atorvastatin</td>\n",
       "      <td>Fenofibrate</td>\n",
       "      <td>0.999926</td>\n",
       "    </tr>\n",
       "    <tr>\n",
       "      <th>401</th>\n",
       "      <td>DB01095</td>\n",
       "      <td>DB01039</td>\n",
       "      <td>Fluvastatin</td>\n",
       "      <td>Fenofibrate</td>\n",
       "      <td>0.998363</td>\n",
       "    </tr>\n",
       "    <tr>\n",
       "      <th>402</th>\n",
       "      <td>DB01098</td>\n",
       "      <td>DB01039</td>\n",
       "      <td>Rosuvastatin</td>\n",
       "      <td>Fenofibrate</td>\n",
       "      <td>0.998648</td>\n",
       "    </tr>\n",
       "    <tr>\n",
       "      <th>403</th>\n",
       "      <td>DB01126</td>\n",
       "      <td>DB00706</td>\n",
       "      <td>Dutasteride</td>\n",
       "      <td>Tamsulosin</td>\n",
       "      <td>0.990900</td>\n",
       "    </tr>\n",
       "    <tr>\n",
       "      <th>404</th>\n",
       "      <td>DB00654</td>\n",
       "      <td>DB00373</td>\n",
       "      <td>Latanoprost</td>\n",
       "      <td>Timolol</td>\n",
       "      <td>0.989096</td>\n",
       "    </tr>\n",
       "    <tr>\n",
       "      <th>405</th>\n",
       "      <td>DB00235</td>\n",
       "      <td>DB00187</td>\n",
       "      <td>Milrinone</td>\n",
       "      <td>Esmolol</td>\n",
       "      <td>0.992646</td>\n",
       "    </tr>\n",
       "  </tbody>\n",
       "</table>\n",
       "</div>"
      ],
      "text/plain": [
       "      drug_1   drug_2       drug1_name      drug2_name  score (TWOSIDES42)\n",
       "396  DB01132  DB00912     Pioglitazone     Repaglinide            0.978839\n",
       "397  DB00421  DB00381   Spironolactone      Amlodipine            0.986407\n",
       "398  DB00302  DB09526  Tranexamic acid    Hydroquinone            0.999938\n",
       "399  DB01248  DB01211        Docetaxel  Clarithromycin            0.999068\n",
       "400  DB01076  DB01039     Atorvastatin     Fenofibrate            0.999926\n",
       "401  DB01095  DB01039      Fluvastatin     Fenofibrate            0.998363\n",
       "402  DB01098  DB01039     Rosuvastatin     Fenofibrate            0.998648\n",
       "403  DB01126  DB00706      Dutasteride      Tamsulosin            0.990900\n",
       "404  DB00654  DB00373      Latanoprost         Timolol            0.989096\n",
       "405  DB00235  DB00187        Milrinone         Esmolol            0.992646"
      ]
     },
     "execution_count": 8,
     "metadata": {},
     "output_type": "execute_result"
    }
   ],
   "source": [
    "case_dc_df.tail(10)"
   ]
  },
  {
   "cell_type": "code",
   "execution_count": 9,
   "metadata": {},
   "outputs": [],
   "source": [
    "# case_ddi_df.tail(10)"
   ]
  },
  {
   "attachments": {},
   "cell_type": "markdown",
   "metadata": {},
   "source": [
    "## Load model and project protein or indication"
   ]
  },
  {
   "cell_type": "code",
   "execution_count": 7,
   "metadata": {},
   "outputs": [],
   "source": [
    "device = torch.device('cuda' if torch.cuda.is_available() else 'cpu')\n",
    "\n",
    "with open('data/embedding/embeddings_DREAMwalk_msi_seed0.pkl', 'rb') as f:\n",
    "    kgfeat_dict = pickle.load(f)"
   ]
  },
  {
   "cell_type": "code",
   "execution_count": 8,
   "metadata": {},
   "outputs": [
    {
     "data": {
      "text/plain": [
       "CombNetRW(\n",
       "  (tr): Sequential(\n",
       "    (0): Linear(in_features=128, out_features=128, bias=True)\n",
       "    (1): BatchNorm1d(128, eps=1e-05, momentum=0.1, affine=True, track_running_stats=True)\n",
       "    (2): ReLU()\n",
       "    (3): Dropout(p=0.1, inplace=False)\n",
       "    (4): Linear(in_features=128, out_features=128, bias=True)\n",
       "    (5): BatchNorm1d(128, eps=1e-05, momentum=0.1, affine=True, track_running_stats=True)\n",
       "  )\n",
       "  (cosine_similarity): CosineSimilarity()\n",
       "  (fc): Sequential(\n",
       "    (0): Linear(in_features=128, out_features=128, bias=True)\n",
       "    (1): BatchNorm1d(128, eps=1e-05, momentum=0.1, affine=True, track_running_stats=True)\n",
       "    (2): ReLU()\n",
       "    (3): Dropout(p=0.1, inplace=False)\n",
       "    (4): Linear(in_features=128, out_features=1, bias=True)\n",
       "  )\n",
       ")"
      ]
     },
     "execution_count": 8,
     "metadata": {},
     "output_type": "execute_result"
    }
   ],
   "source": [
    "model = CombNetRW(128, 128, 1, comb_type='prod_fc').to(device)\n",
    "model.load_state_dict(torch.load(f\"ckpt/blackbox_DREAMwalk_prod_fc_42.pt\"))\n",
    "model.eval()"
   ]
  },
  {
   "cell_type": "code",
   "execution_count": 9,
   "metadata": {},
   "outputs": [
    {
     "name": "stderr",
     "output_type": "stream",
     "text": [
      "/tmp/ipykernel_20219/2389420590.py:3: UserWarning: Creating a tensor from a list of numpy.ndarrays is extremely slow. Please consider converting the list to a single numpy.ndarray with numpy.array() before converting to a tensor. (Triggered internally at  /opt/conda/conda-bld/pytorch_1659484808560/work/torch/csrc/utils/tensor_new.cpp:201.)\n",
      "  ptn_emb = torch.tensor([kgfeat_dict[ptn] for ptn in ptn_lst], dtype=torch.float).to(device)\n"
     ]
    }
   ],
   "source": [
    "# project all proteins\n",
    "ptn_lst = list(ptn_id2name.keys())\n",
    "ptn_emb = torch.tensor([kgfeat_dict[ptn] for ptn in ptn_lst], dtype=torch.float).to(device)"
   ]
  },
  {
   "cell_type": "code",
   "execution_count": 10,
   "metadata": {},
   "outputs": [
    {
     "data": {
      "text/plain": [
       "torch.Size([17660, 128])"
      ]
     },
     "execution_count": 10,
     "metadata": {},
     "output_type": "execute_result"
    }
   ],
   "source": [
    "ptn_emb.shape"
   ]
  },
  {
   "cell_type": "code",
   "execution_count": 11,
   "metadata": {},
   "outputs": [],
   "source": [
    "ptn_proj = model.project_single_entity(ptn_emb).cpu().detach().numpy()"
   ]
  },
  {
   "cell_type": "code",
   "execution_count": 12,
   "metadata": {},
   "outputs": [
    {
     "data": {
      "text/plain": [
       "(17660, 128)"
      ]
     },
     "execution_count": 12,
     "metadata": {},
     "output_type": "execute_result"
    }
   ],
   "source": [
    "ptn_proj.shape"
   ]
  },
  {
   "attachments": {},
   "cell_type": "markdown",
   "metadata": {},
   "source": [
    "## Compute similarity between drug pair and proteins"
   ]
  },
  {
   "cell_type": "code",
   "execution_count": 13,
   "metadata": {},
   "outputs": [],
   "source": [
    "combs = []\n",
    "for pair in case_dc_pair[-6:]:\n",
    "    combs.append(torch.cat([torch.tensor(kgfeat_dict[drug], dtype=torch.float) for drug in pair], dim=0).unsqueeze(0))\n",
    "combs = torch.cat(combs, dim=0).to(device)"
   ]
  },
  {
   "cell_type": "code",
   "execution_count": 14,
   "metadata": {},
   "outputs": [
    {
     "data": {
      "text/plain": [
       "torch.Size([6, 256])"
      ]
     },
     "execution_count": 14,
     "metadata": {},
     "output_type": "execute_result"
    }
   ],
   "source": [
    "combs.shape"
   ]
  },
  {
   "cell_type": "code",
   "execution_count": 15,
   "metadata": {},
   "outputs": [],
   "source": [
    "comb_proj = model.project_pair_entity(combs).cpu().detach().numpy()"
   ]
  },
  {
   "cell_type": "code",
   "execution_count": 16,
   "metadata": {},
   "outputs": [
    {
     "data": {
      "text/plain": [
       "(6, 128)"
      ]
     },
     "execution_count": 16,
     "metadata": {},
     "output_type": "execute_result"
    }
   ],
   "source": [
    "comb_proj.shape"
   ]
  },
  {
   "cell_type": "code",
   "execution_count": null,
   "metadata": {},
   "outputs": [],
   "source": []
  }
 ],
 "metadata": {
  "kernelspec": {
   "display_name": "dcpred",
   "language": "python",
   "name": "python3"
  },
  "language_info": {
   "codemirror_mode": {
    "name": "ipython",
    "version": 3
   },
   "file_extension": ".py",
   "mimetype": "text/x-python",
   "name": "python",
   "nbconvert_exporter": "python",
   "pygments_lexer": "ipython3",
   "version": "3.10.9"
  },
  "orig_nbformat": 4
 },
 "nbformat": 4,
 "nbformat_minor": 2
}
